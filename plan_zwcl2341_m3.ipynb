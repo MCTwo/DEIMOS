{
 "metadata": {
  "name": ""
 },
 "nbformat": 3,
 "nbformat_minor": 0,
 "worksheets": [
  {
   "cells": [
    {
     "cell_type": "heading",
     "level": 2,
     "metadata": {},
     "source": [
      "In order to use the ds9 function in this notebook, you need pyds9 installed "
     ]
    },
    {
     "cell_type": "markdown",
     "metadata": {},
     "source": [
      "Other documentations can be found at :\n",
      "http://www.ucolick.org/~phillips/deimos_ref/masks.html\n",
      "\n",
      "https://docs.google.com/document/d/1tLD-qk-vdZBS67fFs7Bla7GmFO9XlDKZTc82w2G-Nj4/edit#"
     ]
    },
    {
     "cell_type": "code",
     "collapsed": false,
     "input": [
      "%autosave 60"
     ],
     "language": "python",
     "metadata": {},
     "outputs": [
      {
       "javascript": [
        "IPython.notebook.set_autosave_interval(60000)"
       ],
       "metadata": {},
       "output_type": "display_data"
      },
      {
       "output_type": "stream",
       "stream": "stdout",
       "text": [
        "Autosaving every 60 seconds\n"
       ]
      }
     ],
     "prompt_number": 122
    },
    {
     "cell_type": "code",
     "collapsed": false,
     "input": [
      "#===============================================================================\n",
      "#Purpose: This makes use of \"obsplan_functions.py\" to make the masks \n",
      "#Author: \n",
      "#Will. A. Dawson <will@dawsonresearch.com>\n",
      "#Karen Y. Ng <karen.yng@ucdavis.edu>\n",
      "#License: BSD\n",
      "#Date: 06/07/2013\n",
      "#===============================================================================\n",
      "# Import required libraries\n",
      "#-------------------------------------------------------------------------------\n",
      "from __future__ import division\n",
      "import sys\n",
      "import os\n",
      "import numpy as np,numpy\n",
      "import pandas as pd \n",
      "import matplotlib.pyplot as plt\n",
      "import ds9\n",
      "import numpy.ma as ma\n",
      "import pyfits \n",
      "#from IPython.core.display import Image  \n",
      "#import aplpy\n",
      "import obsplan_functions as fcn\n",
      "from obsplan import optimalPA as optimalPA  "
     ],
     "language": "python",
     "metadata": {},
     "outputs": [],
     "prompt_number": 123
    },
    {
     "cell_type": "heading",
     "level": 1,
     "metadata": {},
     "source": [
      "0.Initialize variables "
     ]
    },
    {
     "cell_type": "code",
     "collapsed": false,
     "input": [
      "# Initialize variables\n",
      "#-------------------------------------------------------------------------------\n",
      "path = '/Users/karenyng/Documents/Research/DEIMOS/'\n",
      "catalog = 'zwcl2341_sdsscat.csv'\n",
      "\n",
      "#input: \n",
      "HA = -50./60.\n",
      "#input: RA and dec of cluster please observe the sample format\n",
      "ra = \"23:43:37,\"\n",
      "dec = \"+0:17:24,\"\n",
      "#input: dec but in degrees format \n",
      "delta = 0.277500\n",
      "\n",
      "#input: the range of for galaxy magnitude inclusion \n",
      "R_bounds = (0,23.5)\n",
      "\n",
      "#input: the amount of sky on either side of galaxy to include in slit (arcsec)\n",
      "sky = (1.0, 1.0) \n",
      "\n",
      "#input: the known redshift for cluster ZwCL 2341 is \n",
      "z_cluster = 0.27\n",
      "\n",
      "exclude_file = ['zwcl2341_m1_rev3_exclude.txt',\n",
      "                'zwcl2341_m0_rev3_exclude.txt']\n",
      "\n",
      "#input: the fits file containing the galaxy images \n",
      "#note the following is a rgb cube\n",
      "fitsfile = 'zwcl2341_bvr_sdss039612.fits'\n",
      "\n",
      "#inputs: this reg file has the exact look of the detector but size is not quite right\n",
      "mask_model_reg = 'detector_mask.reg'\n",
      "#input: xray and radio contour produced earlier \n",
      "misc_contour = ['zwcl2341_Xray.con','zwcl2341_radio.con']\n",
      "misc_con_color = ['blue','cyan']\n",
      "\n",
      "#input: ------star catalog related variables -------\n",
      "star_prefix = 'stars_m3_'\n",
      "star_r_bounds = (15,20)\n",
      "\n",
      "#output info\n",
      "maskNumber = 1 #2 cannot support multiple mask as of now\n",
      "#the file name prefix for all the output filesd\n",
      "prefix = 'zwcl2341_rev0_m3'\n",
      "\n",
      "#output: part of the name of region file that mimicks location of the mask\n",
      "regfile = '_gal.reg'\n",
      "#output: part of the name of region file that mimicks location of guider cam\n",
      "regCam = '_cam.reg'\n",
      "\n",
      "#output: what you want the fits file with number density histograms to be called \n",
      "no_density_fits = prefix + '_no_density'\n",
      "ds9_contour = prefix+'.con'"
     ],
     "language": "python",
     "metadata": {},
     "outputs": [],
     "prompt_number": 124
    },
    {
     "cell_type": "heading",
     "level": 2,
     "metadata": {},
     "source": [
      "0.1 Read in catalog then filter according to the specifications & exclude files"
     ]
    },
    {
     "cell_type": "code",
     "collapsed": false,
     "input": [
      "#main program\n",
      "#-------------------------------------------------------------------------------\n",
      "#By default \"pandas.read_csv\" reads in the files with ',' as delimiter\n",
      "#na_values tells pandas to put that string expression as np.na values\n",
      "#for example of how to read other table types see the end of the file\n",
      "cat = pd.read_csv(catalog, na_values='null')\n",
      "cat=cat.drop_duplicates(cols='objID')\n",
      "\n",
      "##To see the keys for the catalog by typing cat \n",
      "#cat "
     ],
     "language": "python",
     "metadata": {},
     "outputs": [],
     "prompt_number": 125
    },
    {
     "cell_type": "code",
     "collapsed": false,
     "input": [
      "#exclude stuff from exclusion files \n",
      "if exclude_file!=None:\n",
      "    for i in range(len(exclude_file)):\n",
      "        cat = fcn.exclude_objects(cat,exclude_file[i])\n",
      "\n",
      "#filter out other astronomical objects and leave only galaxies \n",
      "#type = 3 is for galaxies \n",
      "cat = fcn.filter_catalog_dataframe(cat,field='type',lowerbound=3,\n",
      "                                    upperbound=3)\n",
      "\n",
      "#filter out entries with spec_z \n",
      "cat = fcn.filter_catalog_dataframe(cat,field='z_spec',\n",
      "                             lowerbound=-sys.float_info.epsilon,\n",
      "                             upperbound=sys.float_info.epsilon)\n",
      "\n",
      "#filter out entires with faint unextincted R band magnitude\n",
      "cat = fcn.filter_catalog_dataframe(cat,field='dered_r',\n",
      "                             lowerbound=R_bounds[0],\n",
      "                             upperbound=R_bounds[1])\n",
      "\n",
      "#determine galaxies that are not likely to be cluster members \n",
      "cat = fcn.determine_weight(cat,cat['z_phot'],cat['z_phot_Err'],\n",
      "                                z_cluster,plot_diag=True)"
     ],
     "language": "python",
     "metadata": {},
     "outputs": [
      {
       "output_type": "stream",
       "stream": "stdout",
       "text": [
        "obsplan_functions.exclude_objects():\n",
        "Reading in exclude file: If you see error messages \n",
        "check if there are non-data rows in the middle of the file\n",
        "obsplan.exclude_objects():"
       ]
      },
      {
       "output_type": "stream",
       "stream": "stdout",
       "text": [
        "\n",
        "3273-127=3146\n",
        "--------------------------------------------------------\n",
        "obsplan_functions.exclude_objects():\n",
        "Reading in exclude file: If you see error messages \n",
        "check if there are non-data rows in the middle of the file\n",
        "obsplan.exclude_objects():"
       ]
      },
      {
       "output_type": "stream",
       "stream": "stdout",
       "text": [
        "\n",
        "3146-126=3020\n",
        "--------------------------------------------------------\n",
        "3020-1078=1942 entries remaining\n",
        "--------------------------------------------------------\n",
        "1942-52=1890 entries remaining\n",
        "--------------------------------------------------------\n",
        "1890-214=1676 entries remaining\n",
        "--------------------------------------------------------\n"
       ]
      },
      {
       "metadata": {},
       "output_type": "display_data",
       "png": "[encoded data removed]",
       "text": [
        "<matplotlib.figure.Figure at 0x1150a2e10>"
       ]
      },
      {
       "output_type": "stream",
       "stream": "stdout",
       "text": [
        "A new field called weight has been added to catalog\n"
       ]
      }
     ],
     "prompt_number": 126
    },
    {
     "cell_type": "heading",
     "level": 1,
     "metadata": {},
     "source": [
      "DECIDE ON A WEIGHT CUT:"
     ]
    },
    {
     "cell_type": "code",
     "collapsed": false,
     "input": [
      "print '''this is to stop you and make you think about the weight cut"
     ],
     "language": "python",
     "metadata": {},
     "outputs": [
      {
       "ename": "SyntaxError",
       "evalue": "EOF while scanning triple-quoted string literal (<ipython-input-127-752fecc18e1f>, line 1)",
       "output_type": "pyerr",
       "traceback": [
        "\u001b[0;36m  File \u001b[0;32m\"<ipython-input-127-752fecc18e1f>\"\u001b[0;36m, line \u001b[0;32m1\u001b[0m\n\u001b[0;31m    print '''this is to stop you and make you think about the weight cut\u001b[0m\n\u001b[0m                                                                        ^\u001b[0m\n\u001b[0;31mSyntaxError\u001b[0m\u001b[0;31m:\u001b[0m EOF while scanning triple-quoted string literal\n"
       ]
      }
     ],
     "prompt_number": 127
    },
    {
     "cell_type": "code",
     "collapsed": false,
     "input": [
      "lower_wght = 250"
     ],
     "language": "python",
     "metadata": {},
     "outputs": []
    },
    {
     "cell_type": "code",
     "collapsed": false,
     "input": [
      "#filter out entires with low weight for making number density plots only\n",
      "wcat = fcn.filter_catalog_dataframe(cat,field='weight',\n",
      "                             lowerbound = lower_wght,\n",
      "                             upperbound = None)"
     ],
     "language": "python",
     "metadata": {},
     "outputs": []
    },
    {
     "cell_type": "heading",
     "level": 2,
     "metadata": {},
     "source": [
      "0.2 Make contour of remaining galaxies and decide how to orient slitmask"
     ]
    },
    {
     "cell_type": "code",
     "collapsed": false,
     "input": [
      "junk1,junk2,junk3=fcn.no_density2fits(wcat, no_density_fits)"
     ],
     "language": "python",
     "metadata": {},
     "outputs": [
      {
       "output_type": "stream",
       "stream": "stderr",
       "text": [
        "ERROR:astropy:NameError: name 'wcat' is not defined\n"
       ]
      },
      {
       "ename": "NameError",
       "evalue": "name 'wcat' is not defined",
       "output_type": "pyerr",
       "traceback": [
        "\u001b[0;31m---------------------------------------------------------------------------\u001b[0m\n\u001b[0;31mNameError\u001b[0m                                 Traceback (most recent call last)",
        "\u001b[0;32m<ipython-input-128-f2af33392c91>\u001b[0m in \u001b[0;36m<module>\u001b[0;34m()\u001b[0m\n\u001b[0;32m----> 1\u001b[0;31m \u001b[0mjunk1\u001b[0m\u001b[0;34m,\u001b[0m\u001b[0mjunk2\u001b[0m\u001b[0;34m,\u001b[0m\u001b[0mjunk3\u001b[0m\u001b[0;34m=\u001b[0m\u001b[0mfcn\u001b[0m\u001b[0;34m.\u001b[0m\u001b[0mno_density2fits\u001b[0m\u001b[0;34m(\u001b[0m\u001b[0mwcat\u001b[0m\u001b[0;34m,\u001b[0m \u001b[0mno_density_fits\u001b[0m\u001b[0;34m)\u001b[0m\u001b[0;34m\u001b[0m\u001b[0m\n\u001b[0m",
        "\u001b[0;31mNameError\u001b[0m: name 'wcat' is not defined"
       ]
      },
      {
       "output_type": "stream",
       "stream": "stdout",
       "text": [
        "ERROR: NameError: name 'wcat' is not defined [IPython.core.interactiveshell]\n"
       ]
      }
     ],
     "prompt_number": 128
    },
    {
     "cell_type": "heading",
     "level": 1,
     "metadata": {},
     "source": [
      "1 Start examining galaxy contour with ds9 - please MANUALLY start ds9"
     ]
    },
    {
     "cell_type": "markdown",
     "metadata": {},
     "source": [
      "See all relevant documentations for available commands at:\n",
      "\n",
      "http://hea-www.harvard.edu/saord/ds9/ref/xpa.html"
     ]
    },
    {
     "cell_type": "code",
     "collapsed": false,
     "input": [
      "!open /Applications/SAOImage\\ DS9.app"
     ],
     "language": "python",
     "metadata": {},
     "outputs": [],
     "prompt_number": 129
    },
    {
     "cell_type": "code",
     "collapsed": false,
     "input": [
      "\n",
      "c_fit = os.path.realpath(no_density_fits+'.fits')\n",
      "d = ds9.ds9()\n",
      "d.set(\"frame delete all\")\n",
      "d.set(\"frame new\")\n",
      "thisfile = \"file \"+c_fit\n",
      "print thisfile\n",
      "d.set(thisfile)\n",
      "#personal preference to have the control panel on the left \n",
      "d.set(\"view layout vertical\")\n",
      "d.set(\"wcs align yes\")\n",
      "d.set(\"zoom to fit\")\n",
      "d.set(\"cmap sls\")\n",
      "#change your smoothing function as desired\n",
      "d.set(\"smooth function tophat\")\n",
      "d.set(\"smooth\")"
     ],
     "language": "python",
     "metadata": {},
     "outputs": [
      {
       "output_type": "stream",
       "stream": "stdout",
       "text": [
        "file /Users/karenyng/Documents/Research/deimos/zwcl2341_rev0_m3_no_density.fits\n"
       ]
      },
      {
       "metadata": {},
       "output_type": "pyout",
       "prompt_number": 130,
       "text": [
        "1"
       ]
      }
     ],
     "prompt_number": 130
    },
    {
     "cell_type": "heading",
     "level": 2,
     "metadata": {},
     "source": [
      "1.0 Generate contour, adjust smoothness then save "
     ]
    },
    {
     "cell_type": "code",
     "collapsed": false,
     "input": [
      "d.set(\"cmap grey\")\n",
      "d.set(\"contour generate\")\n",
      "d.set(\"contour smooth 2\")\n",
      "d.set(\"contour nlevels 35\")"
     ],
     "language": "python",
     "metadata": {},
     "outputs": [
      {
       "metadata": {},
       "output_type": "pyout",
       "prompt_number": 131,
       "text": [
        "1"
       ]
      }
     ],
     "prompt_number": 131
    },
    {
     "cell_type": "code",
     "collapsed": false,
     "input": [
      "print 'Make sure you adjust the panel of smoothing '\n",
      "print 'parameters and click apply before executing the later lines'\n"
     ],
     "language": "python",
     "metadata": {},
     "outputs": [
      {
       "output_type": "stream",
       "stream": "stdout",
       "text": [
        "Make sure you adjust the panel of smoothing \n",
        "parameters and click apply before executing the later lines\n"
       ]
      }
     ],
     "prompt_number": 132
    },
    {
     "cell_type": "heading",
     "level": 3,
     "metadata": {},
     "source": [
      "Click apply at the contour panel from ds9"
     ]
    },
    {
     "cell_type": "code",
     "collapsed": false,
     "input": [
      "print 'intentionally stopping notebook process so contour\\\n",
      "properly got generated first before saving"
     ],
     "language": "python",
     "metadata": {},
     "outputs": [
      {
       "ename": "SyntaxError",
       "evalue": "EOL while scanning string literal (<ipython-input-133-be24eae4e3b9>, line 1)",
       "output_type": "pyerr",
       "traceback": [
        "\u001b[0;36m  File \u001b[0;32m\"<ipython-input-133-be24eae4e3b9>\"\u001b[0;36m, line \u001b[0;32m1\u001b[0m\n\u001b[0;31m    print 'intentionally stopping notebook process so contourproperly got generated first before saving\u001b[0m\n\u001b[0m                                                                                                      ^\u001b[0m\n\u001b[0;31mSyntaxError\u001b[0m\u001b[0;31m:\u001b[0m EOL while scanning string literal\n"
       ]
      }
     ],
     "prompt_number": 133
    },
    {
     "cell_type": "code",
     "collapsed": false,
     "input": [
      "#save contour\n",
      "command = \"contour save \"+path+ds9_contour+\" wcs fk5\"\n",
      "d.set(command)\n",
      "print path+ds9_contour+\" saved\""
     ],
     "language": "python",
     "metadata": {},
     "outputs": []
    },
    {
     "cell_type": "heading",
     "level": 3,
     "metadata": {},
     "source": [
      "1.1 Reloading the fits with the optical image before overlaying the mask"
     ]
    },
    {
     "cell_type": "heading",
     "level": 3,
     "metadata": {},
     "source": [
      "If your fits file is not a rgb cube, then just load your fits file with \n",
      "d.set(\"file your-fits-file\") "
     ]
    },
    {
     "cell_type": "code",
     "collapsed": false,
     "input": [
      "d.set(\"frame delete all\")\n",
      "fit = os.path.realpath('zwcl2341_bvr_sdss039612.fits')\n",
      "d.set(\"frame new rgb\")\n",
      "thisfile = \"rgbcube \"+fit\n",
      "d.set(thisfile)\n",
      "d.set(\"zoom to fit\") \n",
      "d.set(\"contour clear\")\n",
      "d.set(\"wcs align yes\")"
     ],
     "language": "python",
     "metadata": {},
     "outputs": []
    },
    {
     "cell_type": "heading",
     "level": 2,
     "metadata": {},
     "source": [
      "Import contour file and decide how the mask should be oriented "
     ]
    },
    {
     "cell_type": "code",
     "collapsed": false,
     "input": [
      "d.set(\"contour clear\")\n",
      "d.set(\"contour load \"+path+ds9_contour+\" wcs fk5 green 2 no\")"
     ],
     "language": "python",
     "metadata": {},
     "outputs": []
    },
    {
     "cell_type": "heading",
     "level": 3,
     "metadata": {},
     "source": [
      "1.2 For more informed decision of where to place the mask: "
     ]
    },
    {
     "cell_type": "markdown",
     "metadata": {},
     "source": [
      "make and load contour for x-ray / radio data and or look at a relevant paper"
     ]
    },
    {
     "cell_type": "code",
     "collapsed": false,
     "input": [
      "#d.set(\"contour clear\")\n",
      "for i in range(len(misc_contour)):\n",
      "    d.set(\"contour load \"+path+misc_contour[i]+' wcs fk5 '+\\\n",
      "            misc_con_color[i]+' 2 no')"
     ],
     "language": "python",
     "metadata": {},
     "outputs": []
    },
    {
     "cell_type": "heading",
     "level": 2,
     "metadata": {},
     "source": [
      "2. Loading the mask model, zoom in or out to find it "
     ]
    },
    {
     "cell_type": "markdown",
     "metadata": {},
     "source": [
      " to try to find the model mask ... the size is not right but its shape helps you determine where you should place your stars"
     ]
    },
    {
     "cell_type": "markdown",
     "metadata": {},
     "source": [
      "Wraggle with the box in ds9 :/"
     ]
    },
    {
     "cell_type": "code",
     "collapsed": false,
     "input": [
      "print ''' stop "
     ],
     "language": "python",
     "metadata": {},
     "outputs": []
    },
    {
     "cell_type": "code",
     "collapsed": false,
     "input": [
      "path_mask = os.path.realpath(mask_model_reg)\n",
      "stuff =\"regions load all \"+ path_mask\n",
      "d.set(stuff) "
     ],
     "language": "python",
     "metadata": {},
     "outputs": []
    },
    {
     "cell_type": "heading",
     "level": 3,
     "metadata": {},
     "source": [
      "get the box imitating the mask drawn "
     ]
    },
    {
     "cell_type": "code",
     "collapsed": false,
     "input": [
      "x_size = \"16.2',\"\n",
      "y_size = \"5',\"\n",
      "angle = \"0\" \n",
      "boxcommand = \" fk5; box(\"+ra+dec+x_size+y_size+angle+\\\n",
      "                \") # color=cyan width=3\"\n",
      "d.set(\"regions\",boxcommand)\n",
      " "
     ],
     "language": "python",
     "metadata": {},
     "outputs": [
      {
       "metadata": {},
       "output_type": "pyout",
       "prompt_number": 158,
       "text": [
        "1"
       ]
      }
     ],
     "prompt_number": 158
    },
    {
     "cell_type": "heading",
     "level": 3,
     "metadata": {},
     "source": [
      "2.1 Resize the model mask to match the loaded rectangle"
     ]
    },
    {
     "cell_type": "markdown",
     "metadata": {},
     "source": [
      "The model mask and the loaded rectangle should both have size ~16.5'x5'. \n",
      "Will suggests (16.2'x 5') but the model mask shows the length is slightly longer but the corner objects will NOT be cut out \n",
      "\n",
      "The model mask is just for you to visualize how your mask will look like, also"
     ]
    },
    {
     "cell_type": "markdown",
     "metadata": {},
     "source": [
      "* rotation angle is positive when rotated CCW from the +x axis towards +y axis"
     ]
    },
    {
     "cell_type": "heading",
     "level": 3,
     "metadata": {},
     "source": [
      "After orienting the box that mimicks the mask,  "
     ]
    },
    {
     "cell_type": "markdown",
     "metadata": {},
     "source": [
      "* delete the model mask\n",
      "* execute the following line to save the mask as prefix.reg then save"
     ]
    },
    {
     "cell_type": "code",
     "collapsed": false,
     "input": [
      "print ''' Adjust the mask "
     ],
     "language": "python",
     "metadata": {},
     "outputs": []
    },
    {
     "cell_type": "heading",
     "level": 3,
     "metadata": {},
     "source": [
      "Make sure that the region files are saved in the correct format then save"
     ]
    },
    {
     "cell_type": "code",
     "collapsed": false,
     "input": [
      "d.set(\"regions system wcs\") \n",
      "d.set(\"regions sky fk5\")\n",
      "d.set(\"regions skyformat degrees\") \n",
      "d.set(\"regions save \"+path+prefix+regfile)"
     ],
     "language": "python",
     "metadata": {},
     "outputs": []
    },
    {
     "cell_type": "heading",
     "level": 3,
     "metadata": {},
     "source": [
      "Import the model mask again"
     ]
    },
    {
     "cell_type": "code",
     "collapsed": false,
     "input": [
      "d.set(\"region delete all\")\n",
      "path_mask = os.path.realpath(mask_model_reg)\n",
      "stuff =\"regions load all \"+ path_mask\n",
      "d.set(stuff) "
     ],
     "language": "python",
     "metadata": {},
     "outputs": []
    },
    {
     "cell_type": "heading",
     "level": 3,
     "metadata": {},
     "source": [
      "Make a box that mimicks the guider camera"
     ]
    },
    {
     "cell_type": "code",
     "collapsed": false,
     "input": [
      "x_size = \"3.4665',\"\n",
      "y_size = \"3.4104167',\"\n",
      "angle = \"0\" \n",
      "boxcommand = \" fk5; box(\"+ra+dec+x_size+y_size+angle+\\\n",
      "                \") # color=cyan width=3\"\n",
      "d.set(\"regions\",boxcommand)"
     ],
     "language": "python",
     "metadata": {},
     "outputs": [
      {
       "metadata": {},
       "output_type": "pyout",
       "prompt_number": 159,
       "text": [
        "1"
       ]
      }
     ],
     "prompt_number": 159
    },
    {
     "cell_type": "code",
     "collapsed": false,
     "input": [
      "print ''' Adjust the guider camera box"
     ],
     "language": "python",
     "metadata": {},
     "outputs": []
    },
    {
     "cell_type": "heading",
     "level": 3,
     "metadata": {},
     "source": [
      "\n",
      "Adjust the box position of the box to match the guide camera region of the resized model mask:"
     ]
    },
    {
     "cell_type": "markdown",
     "metadata": {},
     "source": [
      "* delete the model mask again \n",
      "* use the following lines to save your guider camera rectangle"
     ]
    },
    {
     "cell_type": "code",
     "collapsed": false,
     "input": [
      "#Make sure that the region files are saved in the correct format\n",
      "d.set(\"regions system wcs\") \n",
      "d.set(\"regions sky fk5\")\n",
      "d.set(\"regions skyformat degrees\") \n",
      "d.set(\"regions save \"+path+prefix+regCam)"
     ],
     "language": "python",
     "metadata": {},
     "outputs": []
    },
    {
     "cell_type": "heading",
     "level": 3,
     "metadata": {},
     "source": [
      "2.3 filter catalog so only galaxies within box area is selected"
     ]
    },
    {
     "cell_type": "code",
     "collapsed": false,
     "input": [
      "cat, box  = fcn.return_objects_in_mask_region(cat,prefix+regfile)\n",
      "\n",
      "cat = fcn.determine_sample_no(cat,2,'dered_r', first_sample=True,\n",
      "                              lower_criteria=22.5,\n",
      "                              upper_criteria=23.0)\n",
      "cat = fcn.determine_sample_no(cat,1,'dered_r',lower_criteria=None,\n",
      "                              upper_criteria=22.5)"
     ],
     "language": "python",
     "metadata": {},
     "outputs": []
    },
    {
     "cell_type": "heading",
     "level": 3,
     "metadata": {},
     "source": [
      "2.3b Determine the PA (latest version of the PA function should be incorporated)"
     ]
    },
    {
     "cell_type": "code",
     "collapsed": false,
     "input": [
      "#PA_field = 'PA'\n",
      "#read the PA from the box array that represents the mask\n",
      "#the -90 is added due to the way old PA angles are defined \n",
      "boxPA = box[0][4]#-90 \n",
      "slitPA = optimalPA(boxPA, HA, delta)\n",
      "#print slitPA\n",
      "cat['PA']=pd.Series(slitPA*np.ones(cat.shape[0]),cat.index)\n",
      "\n",
      "### degenerate code ###\n",
      "###cat = fcn.pick_PA(cat, PA_field, box)\n",
      "###cat['PA']=pd.Series(np.zeros(cat.shape[0]),cat.index)"
     ],
     "language": "python",
     "metadata": {},
     "outputs": [],
     "prompt_number": 134
    },
    {
     "cell_type": "heading",
     "level": 3,
     "metadata": {},
     "source": [
      "2.4 Now reload the regions that mimicks the mask and the camera "
     ]
    },
    {
     "cell_type": "code",
     "collapsed": false,
     "input": [
      "d.set(\"regions delete all\")\n",
      "#path_mask = os.path.realpath(regfile)\n",
      "stuff =\"regions load all \"+ path+prefix+regfile\n",
      "d.set(stuff) \n",
      "#path_mask = os.path.realpath(regCam)\n",
      "stuff =\"regions load all \"+ path+prefix+regCam\n",
      "d.set(stuff) \n",
      "d.set(\"contour clear\")"
     ],
     "language": "python",
     "metadata": {},
     "outputs": [
      {
       "metadata": {},
       "output_type": "pyout",
       "prompt_number": 135,
       "text": [
        "1"
       ]
      }
     ],
     "prompt_number": 135
    },
    {
     "cell_type": "heading",
     "level": 3,
     "metadata": {},
     "source": [
      "2.5 Great! Now we are ready to visualize where the slits are:"
     ]
    },
    {
     "cell_type": "code",
     "collapsed": false,
     "input": [
      "reload(fcn)\n",
      "fcn.show_slits_in_ds9(cat, d, sky)\n",
      "#this line will suppress showing the weight at each slit \n",
      "d.set(\"regions showtext no\")"
     ],
     "language": "python",
     "metadata": {},
     "outputs": [
      {
       "output_type": "stream",
       "stream": "stderr",
       "text": [
        "ERROR:astropy:KeyError: u'no item named sample'\n"
       ]
      },
      {
       "ename": "KeyError",
       "evalue": "u'no item named sample'",
       "output_type": "pyerr",
       "traceback": [
        "\u001b[0;31m---------------------------------------------------------------------------\u001b[0m\n\u001b[0;31mKeyError\u001b[0m                                  Traceback (most recent call last)",
        "\u001b[0;32m<ipython-input-136-80431691f2c1>\u001b[0m in \u001b[0;36m<module>\u001b[0;34m()\u001b[0m\n\u001b[1;32m      1\u001b[0m \u001b[0mreload\u001b[0m\u001b[0;34m(\u001b[0m\u001b[0mfcn\u001b[0m\u001b[0;34m)\u001b[0m\u001b[0;34m\u001b[0m\u001b[0m\n\u001b[0;32m----> 2\u001b[0;31m \u001b[0mfcn\u001b[0m\u001b[0;34m.\u001b[0m\u001b[0mshow_slits_in_ds9\u001b[0m\u001b[0;34m(\u001b[0m\u001b[0mcat\u001b[0m\u001b[0;34m,\u001b[0m \u001b[0md\u001b[0m\u001b[0;34m,\u001b[0m \u001b[0msky\u001b[0m\u001b[0;34m)\u001b[0m\u001b[0;34m\u001b[0m\u001b[0m\n\u001b[0m\u001b[1;32m      3\u001b[0m \u001b[0;31m#this line will suppress showing the weight at each slit\u001b[0m\u001b[0;34m\u001b[0m\u001b[0;34m\u001b[0m\u001b[0m\n\u001b[1;32m      4\u001b[0m \u001b[0md\u001b[0m\u001b[0;34m.\u001b[0m\u001b[0mset\u001b[0m\u001b[0;34m(\u001b[0m\u001b[0;34m\"regions showtext no\"\u001b[0m\u001b[0;34m)\u001b[0m\u001b[0;34m\u001b[0m\u001b[0m\n",
        "\u001b[0;32m/Users/karenyng/Documents/Research/deimos/obsplan_functions.pyc\u001b[0m in \u001b[0;36mshow_slits_in_ds9\u001b[0;34m(cat, ds9, sky, color1, color2)\u001b[0m\n\u001b[1;32m    799\u001b[0m         \u001b[0;31m#-90 degrees to go from ds9 to dsim definition\u001b[0m\u001b[0;34m\u001b[0m\u001b[0;34m\u001b[0m\u001b[0m\n\u001b[1;32m    800\u001b[0m         \u001b[0mangle\u001b[0m \u001b[0;34m=\u001b[0m \u001b[0mcat\u001b[0m\u001b[0;34m[\u001b[0m\u001b[0;34m'PA'\u001b[0m\u001b[0;34m]\u001b[0m\u001b[0;34m[\u001b[0m\u001b[0mi\u001b[0m\u001b[0;34m]\u001b[0m \u001b[0;31m#+90\u001b[0m\u001b[0;34m\u001b[0m\u001b[0m\n\u001b[0;32m--> 801\u001b[0;31m         \u001b[0;32mif\u001b[0m \u001b[0mcat\u001b[0m\u001b[0;34m[\u001b[0m\u001b[0;34m'sample'\u001b[0m\u001b[0;34m]\u001b[0m\u001b[0;34m[\u001b[0m\u001b[0mi\u001b[0m\u001b[0;34m]\u001b[0m \u001b[0;34m==\u001b[0m \u001b[0;36m1\u001b[0m\u001b[0;34m:\u001b[0m\u001b[0;34m\u001b[0m\u001b[0m\n\u001b[0m\u001b[1;32m    802\u001b[0m             \u001b[0mcolor\u001b[0m \u001b[0;34m=\u001b[0m \u001b[0mcolor1\u001b[0m\u001b[0;34m\u001b[0m\u001b[0m\n\u001b[1;32m    803\u001b[0m         \u001b[0;32melse\u001b[0m\u001b[0;34m:\u001b[0m\u001b[0;34m\u001b[0m\u001b[0m\n",
        "\u001b[0;32m/opt/local/Library/Frameworks/Python.framework/Versions/2.7/lib/python2.7/site-packages/pandas/core/frame.pyc\u001b[0m in \u001b[0;36m__getitem__\u001b[0;34m(self, key)\u001b[0m\n\u001b[1;32m   2001\u001b[0m             \u001b[0;31m# get column\u001b[0m\u001b[0;34m\u001b[0m\u001b[0;34m\u001b[0m\u001b[0m\n\u001b[1;32m   2002\u001b[0m             \u001b[0;32mif\u001b[0m \u001b[0mself\u001b[0m\u001b[0;34m.\u001b[0m\u001b[0mcolumns\u001b[0m\u001b[0;34m.\u001b[0m\u001b[0mis_unique\u001b[0m\u001b[0;34m:\u001b[0m\u001b[0;34m\u001b[0m\u001b[0m\n\u001b[0;32m-> 2003\u001b[0;31m                 \u001b[0;32mreturn\u001b[0m \u001b[0mself\u001b[0m\u001b[0;34m.\u001b[0m\u001b[0m_get_item_cache\u001b[0m\u001b[0;34m(\u001b[0m\u001b[0mkey\u001b[0m\u001b[0;34m)\u001b[0m\u001b[0;34m\u001b[0m\u001b[0m\n\u001b[0m\u001b[1;32m   2004\u001b[0m \u001b[0;34m\u001b[0m\u001b[0m\n\u001b[1;32m   2005\u001b[0m             \u001b[0;31m# duplicate columns\u001b[0m\u001b[0;34m\u001b[0m\u001b[0;34m\u001b[0m\u001b[0m\n",
        "\u001b[0;32m/opt/local/Library/Frameworks/Python.framework/Versions/2.7/lib/python2.7/site-packages/pandas/core/generic.pyc\u001b[0m in \u001b[0;36m_get_item_cache\u001b[0;34m(self, item)\u001b[0m\n\u001b[1;32m    665\u001b[0m             \u001b[0;32mreturn\u001b[0m \u001b[0mcache\u001b[0m\u001b[0;34m[\u001b[0m\u001b[0mitem\u001b[0m\u001b[0;34m]\u001b[0m\u001b[0;34m\u001b[0m\u001b[0m\n\u001b[1;32m    666\u001b[0m         \u001b[0;32mexcept\u001b[0m \u001b[0mException\u001b[0m\u001b[0;34m:\u001b[0m\u001b[0;34m\u001b[0m\u001b[0m\n\u001b[0;32m--> 667\u001b[0;31m             \u001b[0mvalues\u001b[0m \u001b[0;34m=\u001b[0m \u001b[0mself\u001b[0m\u001b[0;34m.\u001b[0m\u001b[0m_data\u001b[0m\u001b[0;34m.\u001b[0m\u001b[0mget\u001b[0m\u001b[0;34m(\u001b[0m\u001b[0mitem\u001b[0m\u001b[0;34m)\u001b[0m\u001b[0;34m\u001b[0m\u001b[0m\n\u001b[0m\u001b[1;32m    668\u001b[0m             \u001b[0mres\u001b[0m \u001b[0;34m=\u001b[0m \u001b[0mself\u001b[0m\u001b[0;34m.\u001b[0m\u001b[0m_box_item_values\u001b[0m\u001b[0;34m(\u001b[0m\u001b[0mitem\u001b[0m\u001b[0;34m,\u001b[0m \u001b[0mvalues\u001b[0m\u001b[0;34m)\u001b[0m\u001b[0;34m\u001b[0m\u001b[0m\n\u001b[1;32m    669\u001b[0m             \u001b[0mcache\u001b[0m\u001b[0;34m[\u001b[0m\u001b[0mitem\u001b[0m\u001b[0;34m]\u001b[0m \u001b[0;34m=\u001b[0m \u001b[0mres\u001b[0m\u001b[0;34m\u001b[0m\u001b[0m\n",
        "\u001b[0;32m/opt/local/Library/Frameworks/Python.framework/Versions/2.7/lib/python2.7/site-packages/pandas/core/internals.pyc\u001b[0m in \u001b[0;36mget\u001b[0;34m(self, item)\u001b[0m\n\u001b[1;32m   1653\u001b[0m     \u001b[0;32mdef\u001b[0m \u001b[0mget\u001b[0m\u001b[0;34m(\u001b[0m\u001b[0mself\u001b[0m\u001b[0;34m,\u001b[0m \u001b[0mitem\u001b[0m\u001b[0;34m)\u001b[0m\u001b[0;34m:\u001b[0m\u001b[0;34m\u001b[0m\u001b[0m\n\u001b[1;32m   1654\u001b[0m         \u001b[0;32mif\u001b[0m \u001b[0mself\u001b[0m\u001b[0;34m.\u001b[0m\u001b[0mitems\u001b[0m\u001b[0;34m.\u001b[0m\u001b[0mis_unique\u001b[0m\u001b[0;34m:\u001b[0m\u001b[0;34m\u001b[0m\u001b[0m\n\u001b[0;32m-> 1655\u001b[0;31m             \u001b[0m_\u001b[0m\u001b[0;34m,\u001b[0m \u001b[0mblock\u001b[0m \u001b[0;34m=\u001b[0m \u001b[0mself\u001b[0m\u001b[0;34m.\u001b[0m\u001b[0m_find_block\u001b[0m\u001b[0;34m(\u001b[0m\u001b[0mitem\u001b[0m\u001b[0;34m)\u001b[0m\u001b[0;34m\u001b[0m\u001b[0m\n\u001b[0m\u001b[1;32m   1656\u001b[0m             \u001b[0;32mreturn\u001b[0m \u001b[0mblock\u001b[0m\u001b[0;34m.\u001b[0m\u001b[0mget\u001b[0m\u001b[0;34m(\u001b[0m\u001b[0mitem\u001b[0m\u001b[0;34m)\u001b[0m\u001b[0;34m\u001b[0m\u001b[0m\n\u001b[1;32m   1657\u001b[0m         \u001b[0;32melse\u001b[0m\u001b[0;34m:\u001b[0m\u001b[0;34m\u001b[0m\u001b[0m\n",
        "\u001b[0;32m/opt/local/Library/Frameworks/Python.framework/Versions/2.7/lib/python2.7/site-packages/pandas/core/internals.pyc\u001b[0m in \u001b[0;36m_find_block\u001b[0;34m(self, item)\u001b[0m\n\u001b[1;32m   1933\u001b[0m \u001b[0;34m\u001b[0m\u001b[0m\n\u001b[1;32m   1934\u001b[0m     \u001b[0;32mdef\u001b[0m \u001b[0m_find_block\u001b[0m\u001b[0;34m(\u001b[0m\u001b[0mself\u001b[0m\u001b[0;34m,\u001b[0m \u001b[0mitem\u001b[0m\u001b[0;34m)\u001b[0m\u001b[0;34m:\u001b[0m\u001b[0;34m\u001b[0m\u001b[0m\n\u001b[0;32m-> 1935\u001b[0;31m         \u001b[0mself\u001b[0m\u001b[0;34m.\u001b[0m\u001b[0m_check_have\u001b[0m\u001b[0;34m(\u001b[0m\u001b[0mitem\u001b[0m\u001b[0;34m)\u001b[0m\u001b[0;34m\u001b[0m\u001b[0m\n\u001b[0m\u001b[1;32m   1936\u001b[0m         \u001b[0;32mfor\u001b[0m \u001b[0mi\u001b[0m\u001b[0;34m,\u001b[0m \u001b[0mblock\u001b[0m \u001b[0;32min\u001b[0m \u001b[0menumerate\u001b[0m\u001b[0;34m(\u001b[0m\u001b[0mself\u001b[0m\u001b[0;34m.\u001b[0m\u001b[0mblocks\u001b[0m\u001b[0;34m)\u001b[0m\u001b[0;34m:\u001b[0m\u001b[0;34m\u001b[0m\u001b[0m\n\u001b[1;32m   1937\u001b[0m             \u001b[0;32mif\u001b[0m \u001b[0mitem\u001b[0m \u001b[0;32min\u001b[0m \u001b[0mblock\u001b[0m\u001b[0;34m:\u001b[0m\u001b[0;34m\u001b[0m\u001b[0m\n",
        "\u001b[0;32m/opt/local/Library/Frameworks/Python.framework/Versions/2.7/lib/python2.7/site-packages/pandas/core/internals.pyc\u001b[0m in \u001b[0;36m_check_have\u001b[0;34m(self, item)\u001b[0m\n\u001b[1;32m   1940\u001b[0m     \u001b[0;32mdef\u001b[0m \u001b[0m_check_have\u001b[0m\u001b[0;34m(\u001b[0m\u001b[0mself\u001b[0m\u001b[0;34m,\u001b[0m \u001b[0mitem\u001b[0m\u001b[0;34m)\u001b[0m\u001b[0;34m:\u001b[0m\u001b[0;34m\u001b[0m\u001b[0m\n\u001b[1;32m   1941\u001b[0m         \u001b[0;32mif\u001b[0m \u001b[0mitem\u001b[0m \u001b[0;32mnot\u001b[0m \u001b[0;32min\u001b[0m \u001b[0mself\u001b[0m\u001b[0;34m.\u001b[0m\u001b[0mitems\u001b[0m\u001b[0;34m:\u001b[0m\u001b[0;34m\u001b[0m\u001b[0m\n\u001b[0;32m-> 1942\u001b[0;31m             \u001b[0;32mraise\u001b[0m \u001b[0mKeyError\u001b[0m\u001b[0;34m(\u001b[0m\u001b[0;34m'no item named %s'\u001b[0m \u001b[0;34m%\u001b[0m \u001b[0mcom\u001b[0m\u001b[0;34m.\u001b[0m\u001b[0mpprint_thing\u001b[0m\u001b[0;34m(\u001b[0m\u001b[0mitem\u001b[0m\u001b[0;34m)\u001b[0m\u001b[0;34m)\u001b[0m\u001b[0;34m\u001b[0m\u001b[0m\n\u001b[0m\u001b[1;32m   1943\u001b[0m \u001b[0;34m\u001b[0m\u001b[0m\n\u001b[1;32m   1944\u001b[0m     \u001b[0;32mdef\u001b[0m \u001b[0mreindex_axis\u001b[0m\u001b[0;34m(\u001b[0m\u001b[0mself\u001b[0m\u001b[0;34m,\u001b[0m \u001b[0mnew_axis\u001b[0m\u001b[0;34m,\u001b[0m \u001b[0mmethod\u001b[0m\u001b[0;34m=\u001b[0m\u001b[0mNone\u001b[0m\u001b[0;34m,\u001b[0m \u001b[0maxis\u001b[0m\u001b[0;34m=\u001b[0m\u001b[0;36m0\u001b[0m\u001b[0;34m,\u001b[0m \u001b[0mcopy\u001b[0m\u001b[0;34m=\u001b[0m\u001b[0mTrue\u001b[0m\u001b[0;34m)\u001b[0m\u001b[0;34m:\u001b[0m\u001b[0;34m\u001b[0m\u001b[0m\n",
        "\u001b[0;31mKeyError\u001b[0m: u'no item named sample'"
       ]
      },
      {
       "output_type": "stream",
       "stream": "stdout",
       "text": [
        "ERROR: KeyError: u'no item named sample' [pandas.core.internals]\n"
       ]
      }
     ],
     "prompt_number": 136
    },
    {
     "cell_type": "heading",
     "level": 2,
     "metadata": {},
     "source": [
      "Make a star catalog near the selected region file and print out star candidates on a ds9 window"
     ]
    },
    {
     "cell_type": "markdown",
     "metadata": {},
     "source": [
      "These lines are copied from select_stars.py\n",
      "Importing catalog again, this time filtering galaxies out and leaving stars behind"
     ]
    },
    {
     "cell_type": "markdown",
     "metadata": {},
     "source": [
      "Determine guide stars "
     ]
    },
    {
     "cell_type": "code",
     "collapsed": false,
     "input": [
      "reload(fcn)\n",
      "gstar_cat = pd.read_csv(catalog,na_values='null')\n",
      "gstar_cat = fcn.filter_catalog_dataframe(gstar_cat,'type',6,6)\n",
      "##see all stars \n",
      "#fcn.show_circ_in_ds9(gstar_cat, d, color='red')"
     ],
     "language": "python",
     "metadata": {},
     "outputs": [
      {
       "output_type": "stream",
       "stream": "stdout",
       "text": [
        "3273-2195=1078 entries remaining\n",
        "--------------------------------------------------------\n"
       ]
      }
     ],
     "prompt_number": 137
    },
    {
     "cell_type": "code",
     "collapsed": false,
     "input": [
      "gstar_cat = fcn.filter_catalog_dataframe(gstar_cat,'dered_r',\n",
      "                                    star_r_bounds[0],star_r_bounds[1])\n",
      "gstar_cat, gbox = fcn.return_objects_in_mask_region(gstar_cat, \n",
      "                    prefix+regCam) "
     ],
     "language": "python",
     "metadata": {},
     "outputs": [
      {
       "output_type": "stream",
       "stream": "stdout",
       "text": [
        "1078-884=194 entries remaining\n",
        "--------------------------------------------------------\n",
        "obsplan.return_objects in mask region: 194-187 = 7 rows remaining\n",
        "--------------------------------------------------------\n"
       ]
      }
     ],
     "prompt_number": 138
    },
    {
     "cell_type": "code",
     "collapsed": false,
     "input": [
      "d.set(\"regions delete all\")\n",
      "stuff =\"regions load all \"+ path+prefix+regCam\n",
      "d.set(stuff) \n",
      "fcn.show_circ_in_ds9(gstar_cat, d, color='red')"
     ],
     "language": "python",
     "metadata": {},
     "outputs": [],
     "prompt_number": 139
    },
    {
     "cell_type": "code",
     "collapsed": false,
     "input": [
      "d.set(\"regions system wcs\") \n",
      "d.set(\"regions sky fk5\")\n",
      "d.set(\"regions skyformat degrees\") \n",
      "d.set(\"regions save \"+path+prefix+\"_gstars.reg\")"
     ],
     "language": "python",
     "metadata": {},
     "outputs": [
      {
       "metadata": {},
       "output_type": "pyout",
       "prompt_number": 140,
       "text": [
        "1"
       ]
      }
     ],
     "prompt_number": 140
    },
    {
     "cell_type": "markdown",
     "metadata": {},
     "source": [
      "Now read the guide stars back in for printing"
     ]
    },
    {
     "cell_type": "code",
     "collapsed": false,
     "input": [
      "regex_circ_string = r\"[a-zA-Z0-9.-][text=]\\{(\\d+)\\-\\-([0-9]*\\.?[0-9]+)\\}\"\n",
      "                    \n",
      "gstars = np.fromregex(prefix+'_gstars.reg',regex_circ_string,\n",
      "    [('objID',np.int64),('dered_r',np.float)])"
     ],
     "language": "python",
     "metadata": {},
     "outputs": [],
     "prompt_number": 141
    },
    {
     "cell_type": "heading",
     "level": 3,
     "metadata": {},
     "source": [
      "Match the read in objects with those in the catalog for gstars:"
     ]
    },
    {
     "cell_type": "code",
     "collapsed": false,
     "input": [
      "for i in range(gstars.shape[0]):\n",
      "    if i==0:\n",
      "        mask = gstar_cat['objID'] == gstars['objID'][i]\n",
      "    else:\n",
      "        tmask = gstar_cat['objID'] == gstars['objID'][i]\n",
      "        mask += tmask\n",
      "gstars_final = gstar_cat[mask]"
     ],
     "language": "python",
     "metadata": {},
     "outputs": [],
     "prompt_number": 142
    },
    {
     "cell_type": "heading",
     "level": 3,
     "metadata": {},
     "source": [
      "Now do the same for alignment stars"
     ]
    },
    {
     "cell_type": "code",
     "collapsed": false,
     "input": [
      "reload(fcn)\n",
      "astar_cat = pd.read_csv(catalog,na_values='null')\n",
      "astar_cat = fcn.filter_catalog_dataframe(astar_cat,'type',6,6)\n",
      "astar_cat = fcn.filter_catalog_dataframe(astar_cat,'dered_r',\n",
      "                                    star_r_bounds[0],star_r_bounds[1])\n",
      "astar_cat,abox = fcn.return_objects_in_mask_region(astar_cat, \n",
      "                                        prefix+regfile) "
     ],
     "language": "python",
     "metadata": {},
     "outputs": [
      {
       "output_type": "stream",
       "stream": "stdout",
       "text": [
        "3273-2195=1078 entries remaining\n",
        "--------------------------------------------------------\n",
        "1078-884=194 entries remaining\n",
        "--------------------------------------------------------\n",
        "obsplan.return_objects in mask region: 194-147 = 47 rows remaining\n",
        "--------------------------------------------------------\n"
       ]
      }
     ],
     "prompt_number": 143
    },
    {
     "cell_type": "markdown",
     "metadata": {},
     "source": [
      "Exclude the guide stars in the catalog of alignment stars"
     ]
    },
    {
     "cell_type": "code",
     "collapsed": false,
     "input": [
      "#exclude the guide stars in this catalog reload(fcn)\n",
      "dataNo = astar_cat.shape[0]\n",
      "for i in range(gstar_cat['objID'].shape[0]):\n",
      "    ex_objID=gstar_cat['objID'][gstar_cat['objID'].index[i]]\n",
      "    mask = astar_cat['objID'] == ex_objID\n",
      "    astar_cat = astar_cat[~mask]\n",
      "print '{0} entries have been filtered out'.format(dataNo -\\\n",
      "                                                 astar_cat.shape[0])"
     ],
     "language": "python",
     "metadata": {},
     "outputs": [
      {
       "output_type": "stream",
       "stream": "stdout",
       "text": [
        "6 entries have been filtered out\n"
       ]
      }
     ],
     "prompt_number": 144
    },
    {
     "cell_type": "code",
     "collapsed": false,
     "input": [
      "d.set(\"regions delete all\")\n",
      "path_mask = os.path.realpath(mask_model_reg)\n",
      "stuff =\"regions load all \"+ path_mask\n",
      "d.set(stuff) \n",
      "fcn.show_slits_in_ds9(cat, d, sky)\n",
      "#this line will suppress showing the weight at each slit \n",
      "d.set(\"regions showtext no\")\n",
      "fcn.show_circ_in_ds9(astar_cat, d, color='yellow')"
     ],
     "language": "python",
     "metadata": {},
     "outputs": [
      {
       "output_type": "stream",
       "stream": "stderr",
       "text": [
        "ERROR:astropy:KeyError: u'no item named sample'\n"
       ]
      },
      {
       "ename": "KeyError",
       "evalue": "u'no item named sample'",
       "output_type": "pyerr",
       "traceback": [
        "\u001b[0;31m---------------------------------------------------------------------------\u001b[0m\n\u001b[0;31mKeyError\u001b[0m                                  Traceback (most recent call last)",
        "\u001b[0;32m<ipython-input-145-cf2de04932f3>\u001b[0m in \u001b[0;36m<module>\u001b[0;34m()\u001b[0m\n\u001b[1;32m      3\u001b[0m \u001b[0mstuff\u001b[0m \u001b[0;34m=\u001b[0m\u001b[0;34m\"regions load all \"\u001b[0m\u001b[0;34m+\u001b[0m \u001b[0mpath_mask\u001b[0m\u001b[0;34m\u001b[0m\u001b[0m\n\u001b[1;32m      4\u001b[0m \u001b[0md\u001b[0m\u001b[0;34m.\u001b[0m\u001b[0mset\u001b[0m\u001b[0;34m(\u001b[0m\u001b[0mstuff\u001b[0m\u001b[0;34m)\u001b[0m\u001b[0;34m\u001b[0m\u001b[0m\n\u001b[0;32m----> 5\u001b[0;31m \u001b[0mfcn\u001b[0m\u001b[0;34m.\u001b[0m\u001b[0mshow_slits_in_ds9\u001b[0m\u001b[0;34m(\u001b[0m\u001b[0mcat\u001b[0m\u001b[0;34m,\u001b[0m \u001b[0md\u001b[0m\u001b[0;34m,\u001b[0m \u001b[0msky\u001b[0m\u001b[0;34m)\u001b[0m\u001b[0;34m\u001b[0m\u001b[0m\n\u001b[0m\u001b[1;32m      6\u001b[0m \u001b[0;31m#this line will suppress showing the weight at each slit\u001b[0m\u001b[0;34m\u001b[0m\u001b[0;34m\u001b[0m\u001b[0m\n\u001b[1;32m      7\u001b[0m \u001b[0md\u001b[0m\u001b[0;34m.\u001b[0m\u001b[0mset\u001b[0m\u001b[0;34m(\u001b[0m\u001b[0;34m\"regions showtext no\"\u001b[0m\u001b[0;34m)\u001b[0m\u001b[0;34m\u001b[0m\u001b[0m\n",
        "\u001b[0;32m/Users/karenyng/Documents/Research/deimos/obsplan_functions.pyc\u001b[0m in \u001b[0;36mshow_slits_in_ds9\u001b[0;34m(cat, ds9, sky, color1, color2)\u001b[0m\n\u001b[1;32m    799\u001b[0m         \u001b[0;31m#-90 degrees to go from ds9 to dsim definition\u001b[0m\u001b[0;34m\u001b[0m\u001b[0;34m\u001b[0m\u001b[0m\n\u001b[1;32m    800\u001b[0m         \u001b[0mangle\u001b[0m \u001b[0;34m=\u001b[0m \u001b[0mcat\u001b[0m\u001b[0;34m[\u001b[0m\u001b[0;34m'PA'\u001b[0m\u001b[0;34m]\u001b[0m\u001b[0;34m[\u001b[0m\u001b[0mi\u001b[0m\u001b[0;34m]\u001b[0m \u001b[0;31m#+90\u001b[0m\u001b[0;34m\u001b[0m\u001b[0m\n\u001b[0;32m--> 801\u001b[0;31m         \u001b[0;32mif\u001b[0m \u001b[0mcat\u001b[0m\u001b[0;34m[\u001b[0m\u001b[0;34m'sample'\u001b[0m\u001b[0;34m]\u001b[0m\u001b[0;34m[\u001b[0m\u001b[0mi\u001b[0m\u001b[0;34m]\u001b[0m \u001b[0;34m==\u001b[0m \u001b[0;36m1\u001b[0m\u001b[0;34m:\u001b[0m\u001b[0;34m\u001b[0m\u001b[0m\n\u001b[0m\u001b[1;32m    802\u001b[0m             \u001b[0mcolor\u001b[0m \u001b[0;34m=\u001b[0m \u001b[0mcolor1\u001b[0m\u001b[0;34m\u001b[0m\u001b[0m\n\u001b[1;32m    803\u001b[0m         \u001b[0;32melse\u001b[0m\u001b[0;34m:\u001b[0m\u001b[0;34m\u001b[0m\u001b[0m\n",
        "\u001b[0;32m/opt/local/Library/Frameworks/Python.framework/Versions/2.7/lib/python2.7/site-packages/pandas/core/frame.pyc\u001b[0m in \u001b[0;36m__getitem__\u001b[0;34m(self, key)\u001b[0m\n\u001b[1;32m   2001\u001b[0m             \u001b[0;31m# get column\u001b[0m\u001b[0;34m\u001b[0m\u001b[0;34m\u001b[0m\u001b[0m\n\u001b[1;32m   2002\u001b[0m             \u001b[0;32mif\u001b[0m \u001b[0mself\u001b[0m\u001b[0;34m.\u001b[0m\u001b[0mcolumns\u001b[0m\u001b[0;34m.\u001b[0m\u001b[0mis_unique\u001b[0m\u001b[0;34m:\u001b[0m\u001b[0;34m\u001b[0m\u001b[0m\n\u001b[0;32m-> 2003\u001b[0;31m                 \u001b[0;32mreturn\u001b[0m \u001b[0mself\u001b[0m\u001b[0;34m.\u001b[0m\u001b[0m_get_item_cache\u001b[0m\u001b[0;34m(\u001b[0m\u001b[0mkey\u001b[0m\u001b[0;34m)\u001b[0m\u001b[0;34m\u001b[0m\u001b[0m\n\u001b[0m\u001b[1;32m   2004\u001b[0m \u001b[0;34m\u001b[0m\u001b[0m\n\u001b[1;32m   2005\u001b[0m             \u001b[0;31m# duplicate columns\u001b[0m\u001b[0;34m\u001b[0m\u001b[0;34m\u001b[0m\u001b[0m\n",
        "\u001b[0;32m/opt/local/Library/Frameworks/Python.framework/Versions/2.7/lib/python2.7/site-packages/pandas/core/generic.pyc\u001b[0m in \u001b[0;36m_get_item_cache\u001b[0;34m(self, item)\u001b[0m\n\u001b[1;32m    665\u001b[0m             \u001b[0;32mreturn\u001b[0m \u001b[0mcache\u001b[0m\u001b[0;34m[\u001b[0m\u001b[0mitem\u001b[0m\u001b[0;34m]\u001b[0m\u001b[0;34m\u001b[0m\u001b[0m\n\u001b[1;32m    666\u001b[0m         \u001b[0;32mexcept\u001b[0m \u001b[0mException\u001b[0m\u001b[0;34m:\u001b[0m\u001b[0;34m\u001b[0m\u001b[0m\n\u001b[0;32m--> 667\u001b[0;31m             \u001b[0mvalues\u001b[0m \u001b[0;34m=\u001b[0m \u001b[0mself\u001b[0m\u001b[0;34m.\u001b[0m\u001b[0m_data\u001b[0m\u001b[0;34m.\u001b[0m\u001b[0mget\u001b[0m\u001b[0;34m(\u001b[0m\u001b[0mitem\u001b[0m\u001b[0;34m)\u001b[0m\u001b[0;34m\u001b[0m\u001b[0m\n\u001b[0m\u001b[1;32m    668\u001b[0m             \u001b[0mres\u001b[0m \u001b[0;34m=\u001b[0m \u001b[0mself\u001b[0m\u001b[0;34m.\u001b[0m\u001b[0m_box_item_values\u001b[0m\u001b[0;34m(\u001b[0m\u001b[0mitem\u001b[0m\u001b[0;34m,\u001b[0m \u001b[0mvalues\u001b[0m\u001b[0;34m)\u001b[0m\u001b[0;34m\u001b[0m\u001b[0m\n\u001b[1;32m    669\u001b[0m             \u001b[0mcache\u001b[0m\u001b[0;34m[\u001b[0m\u001b[0mitem\u001b[0m\u001b[0;34m]\u001b[0m \u001b[0;34m=\u001b[0m \u001b[0mres\u001b[0m\u001b[0;34m\u001b[0m\u001b[0m\n",
        "\u001b[0;32m/opt/local/Library/Frameworks/Python.framework/Versions/2.7/lib/python2.7/site-packages/pandas/core/internals.pyc\u001b[0m in \u001b[0;36mget\u001b[0;34m(self, item)\u001b[0m\n\u001b[1;32m   1653\u001b[0m     \u001b[0;32mdef\u001b[0m \u001b[0mget\u001b[0m\u001b[0;34m(\u001b[0m\u001b[0mself\u001b[0m\u001b[0;34m,\u001b[0m \u001b[0mitem\u001b[0m\u001b[0;34m)\u001b[0m\u001b[0;34m:\u001b[0m\u001b[0;34m\u001b[0m\u001b[0m\n\u001b[1;32m   1654\u001b[0m         \u001b[0;32mif\u001b[0m \u001b[0mself\u001b[0m\u001b[0;34m.\u001b[0m\u001b[0mitems\u001b[0m\u001b[0;34m.\u001b[0m\u001b[0mis_unique\u001b[0m\u001b[0;34m:\u001b[0m\u001b[0;34m\u001b[0m\u001b[0m\n\u001b[0;32m-> 1655\u001b[0;31m             \u001b[0m_\u001b[0m\u001b[0;34m,\u001b[0m \u001b[0mblock\u001b[0m \u001b[0;34m=\u001b[0m \u001b[0mself\u001b[0m\u001b[0;34m.\u001b[0m\u001b[0m_find_block\u001b[0m\u001b[0;34m(\u001b[0m\u001b[0mitem\u001b[0m\u001b[0;34m)\u001b[0m\u001b[0;34m\u001b[0m\u001b[0m\n\u001b[0m\u001b[1;32m   1656\u001b[0m             \u001b[0;32mreturn\u001b[0m \u001b[0mblock\u001b[0m\u001b[0;34m.\u001b[0m\u001b[0mget\u001b[0m\u001b[0;34m(\u001b[0m\u001b[0mitem\u001b[0m\u001b[0;34m)\u001b[0m\u001b[0;34m\u001b[0m\u001b[0m\n\u001b[1;32m   1657\u001b[0m         \u001b[0;32melse\u001b[0m\u001b[0;34m:\u001b[0m\u001b[0;34m\u001b[0m\u001b[0m\n",
        "\u001b[0;32m/opt/local/Library/Frameworks/Python.framework/Versions/2.7/lib/python2.7/site-packages/pandas/core/internals.pyc\u001b[0m in \u001b[0;36m_find_block\u001b[0;34m(self, item)\u001b[0m\n\u001b[1;32m   1933\u001b[0m \u001b[0;34m\u001b[0m\u001b[0m\n\u001b[1;32m   1934\u001b[0m     \u001b[0;32mdef\u001b[0m \u001b[0m_find_block\u001b[0m\u001b[0;34m(\u001b[0m\u001b[0mself\u001b[0m\u001b[0;34m,\u001b[0m \u001b[0mitem\u001b[0m\u001b[0;34m)\u001b[0m\u001b[0;34m:\u001b[0m\u001b[0;34m\u001b[0m\u001b[0m\n\u001b[0;32m-> 1935\u001b[0;31m         \u001b[0mself\u001b[0m\u001b[0;34m.\u001b[0m\u001b[0m_check_have\u001b[0m\u001b[0;34m(\u001b[0m\u001b[0mitem\u001b[0m\u001b[0;34m)\u001b[0m\u001b[0;34m\u001b[0m\u001b[0m\n\u001b[0m\u001b[1;32m   1936\u001b[0m         \u001b[0;32mfor\u001b[0m \u001b[0mi\u001b[0m\u001b[0;34m,\u001b[0m \u001b[0mblock\u001b[0m \u001b[0;32min\u001b[0m \u001b[0menumerate\u001b[0m\u001b[0;34m(\u001b[0m\u001b[0mself\u001b[0m\u001b[0;34m.\u001b[0m\u001b[0mblocks\u001b[0m\u001b[0;34m)\u001b[0m\u001b[0;34m:\u001b[0m\u001b[0;34m\u001b[0m\u001b[0m\n\u001b[1;32m   1937\u001b[0m             \u001b[0;32mif\u001b[0m \u001b[0mitem\u001b[0m \u001b[0;32min\u001b[0m \u001b[0mblock\u001b[0m\u001b[0;34m:\u001b[0m\u001b[0;34m\u001b[0m\u001b[0m\n",
        "\u001b[0;32m/opt/local/Library/Frameworks/Python.framework/Versions/2.7/lib/python2.7/site-packages/pandas/core/internals.pyc\u001b[0m in \u001b[0;36m_check_have\u001b[0;34m(self, item)\u001b[0m\n\u001b[1;32m   1940\u001b[0m     \u001b[0;32mdef\u001b[0m \u001b[0m_check_have\u001b[0m\u001b[0;34m(\u001b[0m\u001b[0mself\u001b[0m\u001b[0;34m,\u001b[0m \u001b[0mitem\u001b[0m\u001b[0;34m)\u001b[0m\u001b[0;34m:\u001b[0m\u001b[0;34m\u001b[0m\u001b[0m\n\u001b[1;32m   1941\u001b[0m         \u001b[0;32mif\u001b[0m \u001b[0mitem\u001b[0m \u001b[0;32mnot\u001b[0m \u001b[0;32min\u001b[0m \u001b[0mself\u001b[0m\u001b[0;34m.\u001b[0m\u001b[0mitems\u001b[0m\u001b[0;34m:\u001b[0m\u001b[0;34m\u001b[0m\u001b[0m\n\u001b[0;32m-> 1942\u001b[0;31m             \u001b[0;32mraise\u001b[0m \u001b[0mKeyError\u001b[0m\u001b[0;34m(\u001b[0m\u001b[0;34m'no item named %s'\u001b[0m \u001b[0;34m%\u001b[0m \u001b[0mcom\u001b[0m\u001b[0;34m.\u001b[0m\u001b[0mpprint_thing\u001b[0m\u001b[0;34m(\u001b[0m\u001b[0mitem\u001b[0m\u001b[0;34m)\u001b[0m\u001b[0;34m)\u001b[0m\u001b[0;34m\u001b[0m\u001b[0m\n\u001b[0m\u001b[1;32m   1943\u001b[0m \u001b[0;34m\u001b[0m\u001b[0m\n\u001b[1;32m   1944\u001b[0m     \u001b[0;32mdef\u001b[0m \u001b[0mreindex_axis\u001b[0m\u001b[0;34m(\u001b[0m\u001b[0mself\u001b[0m\u001b[0;34m,\u001b[0m \u001b[0mnew_axis\u001b[0m\u001b[0;34m,\u001b[0m \u001b[0mmethod\u001b[0m\u001b[0;34m=\u001b[0m\u001b[0mNone\u001b[0m\u001b[0;34m,\u001b[0m \u001b[0maxis\u001b[0m\u001b[0;34m=\u001b[0m\u001b[0;36m0\u001b[0m\u001b[0;34m,\u001b[0m \u001b[0mcopy\u001b[0m\u001b[0;34m=\u001b[0m\u001b[0mTrue\u001b[0m\u001b[0;34m)\u001b[0m\u001b[0;34m:\u001b[0m\u001b[0;34m\u001b[0m\u001b[0m\n",
        "\u001b[0;31mKeyError\u001b[0m: u'no item named sample'"
       ]
      },
      {
       "output_type": "stream",
       "stream": "stdout",
       "text": [
        "ERROR: KeyError: u'no item named sample' [pandas.core.internals]\n"
       ]
      }
     ],
     "prompt_number": 145
    },
    {
     "cell_type": "markdown",
     "metadata": {},
     "source": [
      "Now pick your stars, remember to pick the ones that are far away from the galaxies"
     ]
    },
    {
     "cell_type": "heading",
     "level": 3,
     "metadata": {},
     "source": [
      "Manually DELETE all other regions and only leaving the alignment star circles before saving the stars:\n"
     ]
    },
    {
     "cell_type": "code",
     "collapsed": false,
     "input": [
      "d.set(\"regions system wcs\") \n",
      "d.set(\"regions sky fk5\")\n",
      "d.set(\"regions skyformat degrees\") \n",
      "d.set(\"regions save \"+path+prefix+\"_astars.reg\")"
     ],
     "language": "python",
     "metadata": {},
     "outputs": [
      {
       "metadata": {},
       "output_type": "pyout",
       "prompt_number": 146,
       "text": [
        "1"
       ]
      }
     ],
     "prompt_number": 146
    },
    {
     "cell_type": "markdown",
     "metadata": {},
     "source": [
      "Read the stars back in , and print them in appropriate format "
     ]
    },
    {
     "cell_type": "code",
     "collapsed": false,
     "input": [
      "#teststr=StringIO('circle(355.88537,0.22009,10\")'+\\\n",
      "#             '#' +'color=yellow text={1237666408440594581--18.76}')\n",
      "regex_circ_string = r\"[a-zA-Z0-9.-][text=]\\{(\\d+)\\-\\-([0-9]*\\.?[0-9]+)\\}\"\n",
      "                    \n",
      "astars = np.fromregex(prefix+'_astars.reg',regex_circ_string,\n",
      "    [('objID',np.int64),('dered_r',np.float)])"
     ],
     "language": "python",
     "metadata": {},
     "outputs": [],
     "prompt_number": 147
    },
    {
     "cell_type": "heading",
     "level": 3,
     "metadata": {},
     "source": [
      "Now match the selected stars from the catalog "
     ]
    },
    {
     "cell_type": "code",
     "collapsed": false,
     "input": [
      "for i in range(astars.shape[0]):\n",
      "    if i==0:\n",
      "        mask = astar_cat['objID'] == astars['objID'][i]\n",
      "    else:\n",
      "        tmask = astar_cat['objID'] == astars['objID'][i]\n",
      "        mask += tmask\n",
      "astars_final = astar_cat[mask]"
     ],
     "language": "python",
     "metadata": {},
     "outputs": [
      {
       "output_type": "stream",
       "stream": "stderr",
       "text": [
        "WARNING:astropy:Boolean Series key will be reindexed to match DataFrame index.\n"
       ]
      },
      {
       "output_type": "stream",
       "stream": "stdout",
       "text": [
        "WARNING: Boolean Series key will be reindexed to match DataFrame index. [pandas.core.frame]\n"
       ]
      }
     ],
     "prompt_number": 148
    },
    {
     "cell_type": "heading",
     "level": 3,
     "metadata": {},
     "source": [
      "ObjID can only be 16 digits long at most, prints out length of objID"
     ]
    },
    {
     "cell_type": "code",
     "collapsed": false,
     "input": [
      "print 'length of objID is '+\\\n",
      "'{0:.0f}'.format(np.log10(cat['objID'][cat['objID'].index[0]])+1)"
     ],
     "language": "python",
     "metadata": {},
     "outputs": [
      {
       "output_type": "stream",
       "stream": "stdout",
       "text": [
        "length of objID is 19\n"
       ]
      }
     ],
     "prompt_number": 149
    },
    {
     "cell_type": "heading",
     "level": 3,
     "metadata": {},
     "source": [
      "Convert the the coordinates into sexagesimal format...."
     ]
    },
    {
     "cell_type": "code",
     "collapsed": false,
     "input": [
      "cat = fcn.convert_to_sexadec_coord(cat)\n",
      "astars_final = fcn.convert_to_sexadec_coord(astars_final)\n",
      "gstars_final = fcn.convert_to_sexadec_coord(gstars_final)"
     ],
     "language": "python",
     "metadata": {},
     "outputs": [
      {
       "output_type": "stream",
       "stream": "stdout",
       "text": [
        "obsplan_functions.convert_to_sexadec_coord:\n",
        "new fields for RA and DEC in sexagesimal format created\n",
        "--------------------------------------------------------\n",
        "obsplan_functions.convert_to_sexadec_coord:\n",
        "new fields for RA and DEC in sexagesimal format created\n",
        "--------------------------------------------------------\n",
        "obsplan_functions.convert_to_sexadec_coord:\n",
        "new fields for RA and DEC in sexagesimal format created\n",
        "--------------------------------------------------------\n"
       ]
      }
     ],
     "prompt_number": 150
    },
    {
     "cell_type": "heading",
     "level": 1,
     "metadata": {},
     "source": [
      "Calculate the naive sum of all the weight of this design"
     ]
    },
    {
     "cell_type": "markdown",
     "metadata": {},
     "source": [
      "sum of all weights of my proposed design is 73748.75585934917"
     ]
    },
    {
     "cell_type": "code",
     "collapsed": false,
     "input": [
      "np.sum(cat['weight'])"
     ],
     "language": "python",
     "metadata": {},
     "outputs": [
      {
       "metadata": {},
       "output_type": "pyout",
       "prompt_number": 151,
       "text": [
        "273082.27921518346"
       ]
      }
     ],
     "prompt_number": 151
    },
    {
     "cell_type": "heading",
     "level": 1,
     "metadata": {},
     "source": [
      "Write out all the slits into dsim input file format!"
     ]
    },
    {
     "cell_type": "code",
     "collapsed": false,
     "input": [
      "dsim_input = prefix+'_maskcat.txt'\n",
      "F = open(dsim_input,'w') \n",
      "fcn.write_dsim_header(F,prefix,box)\n",
      "fcn.write_guide_stars_to_dsim(F, gstars_final)\n",
      "fcn.write_align_stars_to_dsim(F, astars_final)\n",
      "fcn.write_galaxies_to_dsim(F, cat, sky)\n",
      "F.close()"
     ],
     "language": "python",
     "metadata": {},
     "outputs": [
      {
       "output_type": "stream",
       "stream": "stderr",
       "text": [
        "ERROR:astropy:KeyError: u'no item named sample'\n"
       ]
      },
      {
       "ename": "KeyError",
       "evalue": "u'no item named sample'",
       "output_type": "pyerr",
       "traceback": [
        "\u001b[0;31m---------------------------------------------------------------------------\u001b[0m\n\u001b[0;31mKeyError\u001b[0m                                  Traceback (most recent call last)",
        "\u001b[0;32m<ipython-input-152-77b7f0ca7496>\u001b[0m in \u001b[0;36m<module>\u001b[0;34m()\u001b[0m\n\u001b[1;32m      4\u001b[0m \u001b[0mfcn\u001b[0m\u001b[0;34m.\u001b[0m\u001b[0mwrite_guide_stars_to_dsim\u001b[0m\u001b[0;34m(\u001b[0m\u001b[0mF\u001b[0m\u001b[0;34m,\u001b[0m \u001b[0mgstars_final\u001b[0m\u001b[0;34m)\u001b[0m\u001b[0;34m\u001b[0m\u001b[0m\n\u001b[1;32m      5\u001b[0m \u001b[0mfcn\u001b[0m\u001b[0;34m.\u001b[0m\u001b[0mwrite_align_stars_to_dsim\u001b[0m\u001b[0;34m(\u001b[0m\u001b[0mF\u001b[0m\u001b[0;34m,\u001b[0m \u001b[0mastars_final\u001b[0m\u001b[0;34m)\u001b[0m\u001b[0;34m\u001b[0m\u001b[0m\n\u001b[0;32m----> 6\u001b[0;31m \u001b[0mfcn\u001b[0m\u001b[0;34m.\u001b[0m\u001b[0mwrite_galaxies_to_dsim\u001b[0m\u001b[0;34m(\u001b[0m\u001b[0mF\u001b[0m\u001b[0;34m,\u001b[0m \u001b[0mcat\u001b[0m\u001b[0;34m,\u001b[0m \u001b[0msky\u001b[0m\u001b[0;34m)\u001b[0m\u001b[0;34m\u001b[0m\u001b[0m\n\u001b[0m\u001b[1;32m      7\u001b[0m \u001b[0mF\u001b[0m\u001b[0;34m.\u001b[0m\u001b[0mclose\u001b[0m\u001b[0;34m(\u001b[0m\u001b[0;34m)\u001b[0m\u001b[0;34m\u001b[0m\u001b[0m\n",
        "\u001b[0;32m/Users/karenyng/Documents/Research/deimos/obsplan_functions.pyc\u001b[0m in \u001b[0;36mwrite_galaxies_to_dsim\u001b[0;34m(F, cat, sky)\u001b[0m\n\u001b[1;32m    950\u001b[0m                                 \u001b[0mcat\u001b[0m\u001b[0;34m[\u001b[0m\u001b[0;34m'dered_r'\u001b[0m\u001b[0;34m]\u001b[0m\u001b[0;34m[\u001b[0m\u001b[0mi\u001b[0m\u001b[0;34m]\u001b[0m\u001b[0;34m,\u001b[0m\u001b[0;34m\u001b[0m\u001b[0m\n\u001b[1;32m    951\u001b[0m                                 \u001b[0mcat\u001b[0m\u001b[0;34m[\u001b[0m\u001b[0;34m'weight'\u001b[0m\u001b[0;34m]\u001b[0m\u001b[0;34m[\u001b[0m\u001b[0mi\u001b[0m\u001b[0;34m]\u001b[0m\u001b[0;34m,\u001b[0m\u001b[0;34m\u001b[0m\u001b[0m\n\u001b[0;32m--> 952\u001b[0;31m                                 \u001b[0mcat\u001b[0m\u001b[0;34m[\u001b[0m\u001b[0;34m'sample'\u001b[0m\u001b[0;34m]\u001b[0m\u001b[0;34m[\u001b[0m\u001b[0mi\u001b[0m\u001b[0;34m]\u001b[0m\u001b[0;34m,\u001b[0m\u001b[0;34m\u001b[0m\u001b[0m\n\u001b[0m\u001b[1;32m    953\u001b[0m                                 \u001b[0;36m0\u001b[0m\u001b[0;34m,\u001b[0m\u001b[0;34m\u001b[0m\u001b[0m\n\u001b[1;32m    954\u001b[0m                                 \u001b[0mcat\u001b[0m\u001b[0;34m[\u001b[0m\u001b[0;34m'PA'\u001b[0m\u001b[0;34m]\u001b[0m\u001b[0;34m[\u001b[0m\u001b[0mi\u001b[0m\u001b[0;34m]\u001b[0m\u001b[0;34m-\u001b[0m\u001b[0;36m90\u001b[0m\u001b[0;34m,\u001b[0m\u001b[0;34m\u001b[0m\u001b[0m\n",
        "\u001b[0;32m/opt/local/Library/Frameworks/Python.framework/Versions/2.7/lib/python2.7/site-packages/pandas/core/frame.pyc\u001b[0m in \u001b[0;36m__getitem__\u001b[0;34m(self, key)\u001b[0m\n\u001b[1;32m   2001\u001b[0m             \u001b[0;31m# get column\u001b[0m\u001b[0;34m\u001b[0m\u001b[0;34m\u001b[0m\u001b[0m\n\u001b[1;32m   2002\u001b[0m             \u001b[0;32mif\u001b[0m \u001b[0mself\u001b[0m\u001b[0;34m.\u001b[0m\u001b[0mcolumns\u001b[0m\u001b[0;34m.\u001b[0m\u001b[0mis_unique\u001b[0m\u001b[0;34m:\u001b[0m\u001b[0;34m\u001b[0m\u001b[0m\n\u001b[0;32m-> 2003\u001b[0;31m                 \u001b[0;32mreturn\u001b[0m \u001b[0mself\u001b[0m\u001b[0;34m.\u001b[0m\u001b[0m_get_item_cache\u001b[0m\u001b[0;34m(\u001b[0m\u001b[0mkey\u001b[0m\u001b[0;34m)\u001b[0m\u001b[0;34m\u001b[0m\u001b[0m\n\u001b[0m\u001b[1;32m   2004\u001b[0m \u001b[0;34m\u001b[0m\u001b[0m\n\u001b[1;32m   2005\u001b[0m             \u001b[0;31m# duplicate columns\u001b[0m\u001b[0;34m\u001b[0m\u001b[0;34m\u001b[0m\u001b[0m\n",
        "\u001b[0;32m/opt/local/Library/Frameworks/Python.framework/Versions/2.7/lib/python2.7/site-packages/pandas/core/generic.pyc\u001b[0m in \u001b[0;36m_get_item_cache\u001b[0;34m(self, item)\u001b[0m\n\u001b[1;32m    665\u001b[0m             \u001b[0;32mreturn\u001b[0m \u001b[0mcache\u001b[0m\u001b[0;34m[\u001b[0m\u001b[0mitem\u001b[0m\u001b[0;34m]\u001b[0m\u001b[0;34m\u001b[0m\u001b[0m\n\u001b[1;32m    666\u001b[0m         \u001b[0;32mexcept\u001b[0m \u001b[0mException\u001b[0m\u001b[0;34m:\u001b[0m\u001b[0;34m\u001b[0m\u001b[0m\n\u001b[0;32m--> 667\u001b[0;31m             \u001b[0mvalues\u001b[0m \u001b[0;34m=\u001b[0m \u001b[0mself\u001b[0m\u001b[0;34m.\u001b[0m\u001b[0m_data\u001b[0m\u001b[0;34m.\u001b[0m\u001b[0mget\u001b[0m\u001b[0;34m(\u001b[0m\u001b[0mitem\u001b[0m\u001b[0;34m)\u001b[0m\u001b[0;34m\u001b[0m\u001b[0m\n\u001b[0m\u001b[1;32m    668\u001b[0m             \u001b[0mres\u001b[0m \u001b[0;34m=\u001b[0m \u001b[0mself\u001b[0m\u001b[0;34m.\u001b[0m\u001b[0m_box_item_values\u001b[0m\u001b[0;34m(\u001b[0m\u001b[0mitem\u001b[0m\u001b[0;34m,\u001b[0m \u001b[0mvalues\u001b[0m\u001b[0;34m)\u001b[0m\u001b[0;34m\u001b[0m\u001b[0m\n\u001b[1;32m    669\u001b[0m             \u001b[0mcache\u001b[0m\u001b[0;34m[\u001b[0m\u001b[0mitem\u001b[0m\u001b[0;34m]\u001b[0m \u001b[0;34m=\u001b[0m \u001b[0mres\u001b[0m\u001b[0;34m\u001b[0m\u001b[0m\n",
        "\u001b[0;32m/opt/local/Library/Frameworks/Python.framework/Versions/2.7/lib/python2.7/site-packages/pandas/core/internals.pyc\u001b[0m in \u001b[0;36mget\u001b[0;34m(self, item)\u001b[0m\n\u001b[1;32m   1653\u001b[0m     \u001b[0;32mdef\u001b[0m \u001b[0mget\u001b[0m\u001b[0;34m(\u001b[0m\u001b[0mself\u001b[0m\u001b[0;34m,\u001b[0m \u001b[0mitem\u001b[0m\u001b[0;34m)\u001b[0m\u001b[0;34m:\u001b[0m\u001b[0;34m\u001b[0m\u001b[0m\n\u001b[1;32m   1654\u001b[0m         \u001b[0;32mif\u001b[0m \u001b[0mself\u001b[0m\u001b[0;34m.\u001b[0m\u001b[0mitems\u001b[0m\u001b[0;34m.\u001b[0m\u001b[0mis_unique\u001b[0m\u001b[0;34m:\u001b[0m\u001b[0;34m\u001b[0m\u001b[0m\n\u001b[0;32m-> 1655\u001b[0;31m             \u001b[0m_\u001b[0m\u001b[0;34m,\u001b[0m \u001b[0mblock\u001b[0m \u001b[0;34m=\u001b[0m \u001b[0mself\u001b[0m\u001b[0;34m.\u001b[0m\u001b[0m_find_block\u001b[0m\u001b[0;34m(\u001b[0m\u001b[0mitem\u001b[0m\u001b[0;34m)\u001b[0m\u001b[0;34m\u001b[0m\u001b[0m\n\u001b[0m\u001b[1;32m   1656\u001b[0m             \u001b[0;32mreturn\u001b[0m \u001b[0mblock\u001b[0m\u001b[0;34m.\u001b[0m\u001b[0mget\u001b[0m\u001b[0;34m(\u001b[0m\u001b[0mitem\u001b[0m\u001b[0;34m)\u001b[0m\u001b[0;34m\u001b[0m\u001b[0m\n\u001b[1;32m   1657\u001b[0m         \u001b[0;32melse\u001b[0m\u001b[0;34m:\u001b[0m\u001b[0;34m\u001b[0m\u001b[0m\n",
        "\u001b[0;32m/opt/local/Library/Frameworks/Python.framework/Versions/2.7/lib/python2.7/site-packages/pandas/core/internals.pyc\u001b[0m in \u001b[0;36m_find_block\u001b[0;34m(self, item)\u001b[0m\n\u001b[1;32m   1933\u001b[0m \u001b[0;34m\u001b[0m\u001b[0m\n\u001b[1;32m   1934\u001b[0m     \u001b[0;32mdef\u001b[0m \u001b[0m_find_block\u001b[0m\u001b[0;34m(\u001b[0m\u001b[0mself\u001b[0m\u001b[0;34m,\u001b[0m \u001b[0mitem\u001b[0m\u001b[0;34m)\u001b[0m\u001b[0;34m:\u001b[0m\u001b[0;34m\u001b[0m\u001b[0m\n\u001b[0;32m-> 1935\u001b[0;31m         \u001b[0mself\u001b[0m\u001b[0;34m.\u001b[0m\u001b[0m_check_have\u001b[0m\u001b[0;34m(\u001b[0m\u001b[0mitem\u001b[0m\u001b[0;34m)\u001b[0m\u001b[0;34m\u001b[0m\u001b[0m\n\u001b[0m\u001b[1;32m   1936\u001b[0m         \u001b[0;32mfor\u001b[0m \u001b[0mi\u001b[0m\u001b[0;34m,\u001b[0m \u001b[0mblock\u001b[0m \u001b[0;32min\u001b[0m \u001b[0menumerate\u001b[0m\u001b[0;34m(\u001b[0m\u001b[0mself\u001b[0m\u001b[0;34m.\u001b[0m\u001b[0mblocks\u001b[0m\u001b[0;34m)\u001b[0m\u001b[0;34m:\u001b[0m\u001b[0;34m\u001b[0m\u001b[0m\n\u001b[1;32m   1937\u001b[0m             \u001b[0;32mif\u001b[0m \u001b[0mitem\u001b[0m \u001b[0;32min\u001b[0m \u001b[0mblock\u001b[0m\u001b[0;34m:\u001b[0m\u001b[0;34m\u001b[0m\u001b[0m\n",
        "\u001b[0;32m/opt/local/Library/Frameworks/Python.framework/Versions/2.7/lib/python2.7/site-packages/pandas/core/internals.pyc\u001b[0m in \u001b[0;36m_check_have\u001b[0;34m(self, item)\u001b[0m\n\u001b[1;32m   1940\u001b[0m     \u001b[0;32mdef\u001b[0m \u001b[0m_check_have\u001b[0m\u001b[0;34m(\u001b[0m\u001b[0mself\u001b[0m\u001b[0;34m,\u001b[0m \u001b[0mitem\u001b[0m\u001b[0;34m)\u001b[0m\u001b[0;34m:\u001b[0m\u001b[0;34m\u001b[0m\u001b[0m\n\u001b[1;32m   1941\u001b[0m         \u001b[0;32mif\u001b[0m \u001b[0mitem\u001b[0m \u001b[0;32mnot\u001b[0m \u001b[0;32min\u001b[0m \u001b[0mself\u001b[0m\u001b[0;34m.\u001b[0m\u001b[0mitems\u001b[0m\u001b[0;34m:\u001b[0m\u001b[0;34m\u001b[0m\u001b[0m\n\u001b[0;32m-> 1942\u001b[0;31m             \u001b[0;32mraise\u001b[0m \u001b[0mKeyError\u001b[0m\u001b[0;34m(\u001b[0m\u001b[0;34m'no item named %s'\u001b[0m \u001b[0;34m%\u001b[0m \u001b[0mcom\u001b[0m\u001b[0;34m.\u001b[0m\u001b[0mpprint_thing\u001b[0m\u001b[0;34m(\u001b[0m\u001b[0mitem\u001b[0m\u001b[0;34m)\u001b[0m\u001b[0;34m)\u001b[0m\u001b[0;34m\u001b[0m\u001b[0m\n\u001b[0m\u001b[1;32m   1943\u001b[0m \u001b[0;34m\u001b[0m\u001b[0m\n\u001b[1;32m   1944\u001b[0m     \u001b[0;32mdef\u001b[0m \u001b[0mreindex_axis\u001b[0m\u001b[0;34m(\u001b[0m\u001b[0mself\u001b[0m\u001b[0;34m,\u001b[0m \u001b[0mnew_axis\u001b[0m\u001b[0;34m,\u001b[0m \u001b[0mmethod\u001b[0m\u001b[0;34m=\u001b[0m\u001b[0mNone\u001b[0m\u001b[0;34m,\u001b[0m \u001b[0maxis\u001b[0m\u001b[0;34m=\u001b[0m\u001b[0;36m0\u001b[0m\u001b[0;34m,\u001b[0m \u001b[0mcopy\u001b[0m\u001b[0;34m=\u001b[0m\u001b[0mTrue\u001b[0m\u001b[0;34m)\u001b[0m\u001b[0;34m:\u001b[0m\u001b[0;34m\u001b[0m\u001b[0m\n",
        "\u001b[0;31mKeyError\u001b[0m: u'no item named sample'"
       ]
      },
      {
       "output_type": "stream",
       "stream": "stdout",
       "text": [
        "!!!!!WARNING!!! Chopping off first 3 digit of SDSS ObjID\n",
        "if you are not using SDSS, modify    obsplan_functions.write_galaxies_to_dsim() to disable this\n",
        "--------------------------------------------------------\n",
        "# of guide stars written to file = 7\n",
        "--------------------------------------------------------\n",
        "!!!!!WARNING!!! Chopping off first 3 digit of SDSS ObjID\n",
        "if you are not using SDSS, modify    obsplan_functions.write_galaxies_to_dsim() to disable this\n",
        "--------------------------------------------------------\n",
        "# of alignment stars written to file = 0\n",
        "--------------------------------------------------------\n",
        "!!!!!WARNING!!! Chopping off first 3 digit of SDSS ObjID\n",
        "if you are not using SDSS, modify    obsplan_functions.write_galaxies_to_dsim() to disable this\n",
        "--------------------------------------------------------\n",
        "# of galaxies written to file = 1676\n",
        "--------------------------------------------------------\n",
        "ERROR: KeyError: u'no item named sample' [pandas.core.internals]\n"
       ]
      }
     ],
     "prompt_number": 152
    },
    {
     "cell_type": "heading",
     "level": 2,
     "metadata": {},
     "source": [
      "Open up the galaxy catalog to check visually if everything's alright"
     ]
    },
    {
     "cell_type": "code",
     "collapsed": false,
     "input": [
      "print prefix+'_maskcat.txt'"
     ],
     "language": "python",
     "metadata": {},
     "outputs": []
    },
    {
     "cell_type": "code",
     "collapsed": false,
     "input": [
      "!gvim zwcl2341_rev0_m3_maskcat.txt"
     ],
     "language": "python",
     "metadata": {},
     "outputs": [],
     "prompt_number": 153
    },
    {
     "cell_type": "markdown",
     "metadata": {},
     "source": [
      "Follow steps from https://docs.google.com/document/d/1tLD-qk-vdZBS67fFs7Bla7GmFO9XlDKZTc82w2G-Nj4/edit#heading=h.sh9e4i7diwr9"
     ]
    },
    {
     "cell_type": "heading",
     "level": 2,
     "metadata": {},
     "source": [
      "Orient DS9 image so that it corresponds to DSIM image for comparison "
     ]
    },
    {
     "cell_type": "markdown",
     "metadata": {},
     "source": [
      "Check for slits in the classically forbidden region ;)"
     ]
    },
    {
     "cell_type": "code",
     "collapsed": false,
     "input": [
      "d.set(\"zoom to fit\") \n",
      "d.set(\"contour clear\")\n",
      "d.set(\"wcs align yes\")\n",
      "d.set(\"region delete all\")\n",
      "path_mask = os.path.realpath(mask_model_reg)\n",
      "stuff =\"regions load all \"+ path_mask\n",
      "d.set(stuff) "
     ],
     "language": "python",
     "metadata": {},
     "outputs": [
      {
       "output_type": "stream",
       "stream": "stderr",
       "text": [
        "ERROR:astropy:ValueError: XPA$ERROR undefined command for this xpa (DS9:ds9 /var/folders/rv/t7r9tqm93_s9qw2758lk6lcr0000gn/T//DS9_ds9.7568)\n",
        "\n"
       ]
      },
      {
       "ename": "ValueError",
       "evalue": "XPA$ERROR undefined command for this xpa (DS9:ds9 /var/folders/rv/t7r9tqm93_s9qw2758lk6lcr0000gn/T//DS9_ds9.7568)\n",
       "output_type": "pyerr",
       "traceback": [
        "\u001b[0;31m---------------------------------------------------------------------------\u001b[0m\n\u001b[0;31mValueError\u001b[0m                                Traceback (most recent call last)",
        "\u001b[0;32m<ipython-input-154-4f06e21a8589>\u001b[0m in \u001b[0;36m<module>\u001b[0;34m()\u001b[0m\n\u001b[1;32m      2\u001b[0m \u001b[0md\u001b[0m\u001b[0;34m.\u001b[0m\u001b[0mset\u001b[0m\u001b[0;34m(\u001b[0m\u001b[0;34m\"contour clear\"\u001b[0m\u001b[0;34m)\u001b[0m\u001b[0;34m\u001b[0m\u001b[0m\n\u001b[1;32m      3\u001b[0m \u001b[0md\u001b[0m\u001b[0;34m.\u001b[0m\u001b[0mset\u001b[0m\u001b[0;34m(\u001b[0m\u001b[0;34m\"wcs align yes\"\u001b[0m\u001b[0;34m)\u001b[0m\u001b[0;34m\u001b[0m\u001b[0m\n\u001b[0;32m----> 4\u001b[0;31m \u001b[0md\u001b[0m\u001b[0;34m.\u001b[0m\u001b[0mset\u001b[0m\u001b[0;34m(\u001b[0m\u001b[0;34m\"region delete all\"\u001b[0m\u001b[0;34m)\u001b[0m\u001b[0;34m\u001b[0m\u001b[0m\n\u001b[0m\u001b[1;32m      5\u001b[0m \u001b[0mpath_mask\u001b[0m \u001b[0;34m=\u001b[0m \u001b[0mos\u001b[0m\u001b[0;34m.\u001b[0m\u001b[0mpath\u001b[0m\u001b[0;34m.\u001b[0m\u001b[0mrealpath\u001b[0m\u001b[0;34m(\u001b[0m\u001b[0mmask_model_reg\u001b[0m\u001b[0;34m)\u001b[0m\u001b[0;34m\u001b[0m\u001b[0m\n\u001b[1;32m      6\u001b[0m \u001b[0mstuff\u001b[0m \u001b[0;34m=\u001b[0m\u001b[0;34m\"regions load all \"\u001b[0m\u001b[0;34m+\u001b[0m \u001b[0mpath_mask\u001b[0m\u001b[0;34m\u001b[0m\u001b[0m\n",
        "\u001b[0;32m/opt/local/Library/Frameworks/Python.framework/Versions/2.7/lib/python2.7/site-packages/ds9.pyc\u001b[0m in \u001b[0;36mset\u001b[0;34m(self, paramlist, buf, blen)\u001b[0m\n\u001b[1;32m    373\u001b[0m         \u001b[0;32melse\u001b[0m\u001b[0;34m:\u001b[0m\u001b[0;34m\u001b[0m\u001b[0m\n\u001b[1;32m    374\u001b[0m             \u001b[0ms\u001b[0m \u001b[0;34m=\u001b[0m \u001b[0mbuf\u001b[0m\u001b[0;34m\u001b[0m\u001b[0m\n\u001b[0;32m--> 375\u001b[0;31m         \u001b[0;32mreturn\u001b[0m \u001b[0mxpa\u001b[0m\u001b[0;34m.\u001b[0m\u001b[0mxpaset\u001b[0m\u001b[0;34m(\u001b[0m\u001b[0mself\u001b[0m\u001b[0;34m.\u001b[0m\u001b[0mid\u001b[0m\u001b[0;34m,\u001b[0m \u001b[0mparamlist\u001b[0m\u001b[0;34m,\u001b[0m \u001b[0ms\u001b[0m\u001b[0;34m,\u001b[0m \u001b[0mblen\u001b[0m\u001b[0;34m,\u001b[0m \u001b[0;36m1\u001b[0m\u001b[0;34m)\u001b[0m\u001b[0;34m\u001b[0m\u001b[0m\n\u001b[0m\u001b[1;32m    376\u001b[0m \u001b[0;34m\u001b[0m\u001b[0m\n\u001b[1;32m    377\u001b[0m     \u001b[0;32mdef\u001b[0m \u001b[0minfo\u001b[0m\u001b[0;34m(\u001b[0m\u001b[0mself\u001b[0m\u001b[0;34m,\u001b[0m \u001b[0mparamlist\u001b[0m\u001b[0;34m)\u001b[0m\u001b[0;34m:\u001b[0m\u001b[0;34m\u001b[0m\u001b[0m\n",
        "\u001b[0;32m/opt/local/Library/Frameworks/Python.framework/Versions/2.7/lib/python2.7/site-packages/xpa.pyc\u001b[0m in \u001b[0;36mxpaset\u001b[0;34m(target, plist, buf, blen, n)\u001b[0m\n\u001b[1;32m    147\u001b[0m     \u001b[0m_freebufs\u001b[0m\u001b[0;34m(\u001b[0m\u001b[0mnames\u001b[0m\u001b[0;34m,\u001b[0m \u001b[0mn\u001b[0m\u001b[0;34m)\u001b[0m\u001b[0;34m\u001b[0m\u001b[0m\n\u001b[1;32m    148\u001b[0m     \u001b[0m_freebufs\u001b[0m\u001b[0;34m(\u001b[0m\u001b[0merrs\u001b[0m\u001b[0;34m,\u001b[0m \u001b[0mn\u001b[0m\u001b[0;34m)\u001b[0m\u001b[0;34m\u001b[0m\u001b[0m\n\u001b[0;32m--> 149\u001b[0;31m     \u001b[0;32mif\u001b[0m \u001b[0merrmsg\u001b[0m\u001b[0;34m:\u001b[0m \u001b[0;32mraise\u001b[0m \u001b[0mValueError\u001b[0m\u001b[0;34m,\u001b[0m \u001b[0merrmsg\u001b[0m\u001b[0;34m\u001b[0m\u001b[0m\n\u001b[0m\u001b[1;32m    150\u001b[0m     \u001b[0;32mreturn\u001b[0m \u001b[0mgot\u001b[0m\u001b[0;34m\u001b[0m\u001b[0m\n\u001b[1;32m    151\u001b[0m \u001b[0;34m\u001b[0m\u001b[0m\n",
        "\u001b[0;31mValueError\u001b[0m: XPA$ERROR undefined command for this xpa (DS9:ds9 /var/folders/rv/t7r9tqm93_s9qw2758lk6lcr0000gn/T//DS9_ds9.7568)\n"
       ]
      },
      {
       "output_type": "stream",
       "stream": "stdout",
       "text": [
        "ERROR: ValueError: XPA$ERROR undefined command for this xpa (DS9:ds9 /var/folders/rv/t7r9tqm93_s9qw2758lk6lcr0000gn/T//DS9_ds9.7568)\n",
        " [xpa]\n"
       ]
      }
     ],
     "prompt_number": 154
    },
    {
     "cell_type": "markdown",
     "metadata": {},
     "source": [
      "Rotate in opposite direction as the mask and also the mask is in a -180 degree  position in dsim... "
     ]
    },
    {
     "cell_type": "code",
     "collapsed": false,
     "input": [
      "rotateAngle =  180 - boxPA \n",
      "d.set(\"rotate to \"+str(rotateAngle))\n",
      "d.set(\"zoom to fit\") "
     ],
     "language": "python",
     "metadata": {},
     "outputs": []
    },
    {
     "cell_type": "code",
     "collapsed": false,
     "input": [
      "fcn.show_slits_in_ds9(cat, d, sky)\n",
      "#this line will suppress showing the weight at each slit \n",
      "d.set(\"regions showtext no\")\n",
      "#fcn.show_circ_in_ds9(astar_cat, d, color='yellow')\n",
      "fcn.show_circ_in_ds9(gstar_cat, d, color='red')"
     ],
     "language": "python",
     "metadata": {},
     "outputs": []
    },
    {
     "cell_type": "markdown",
     "metadata": {},
     "source": [
      "Mouse over to DS9 , click on the selected slits\n",
      "Change color of the slit using the following command for easy identification"
     ]
    },
    {
     "cell_type": "code",
     "collapsed": false,
     "input": [
      "d.set(\"regions color magenta\")"
     ],
     "language": "python",
     "metadata": {},
     "outputs": [
      {
       "metadata": {},
       "output_type": "pyout",
       "prompt_number": 155,
       "text": [
        "1"
       ]
      }
     ],
     "prompt_number": 155
    },
    {
     "cell_type": "code",
     "collapsed": false,
     "input": [
      "d.set(\"mode pointer\")"
     ],
     "language": "python",
     "metadata": {},
     "outputs": [
      {
       "metadata": {},
       "output_type": "pyout",
       "prompt_number": 156,
       "text": [
        "1"
       ]
      }
     ],
     "prompt_number": 156
    },
    {
     "cell_type": "code",
     "collapsed": false,
     "input": [
      "d.set(\"mode crosshair\")"
     ],
     "language": "python",
     "metadata": {},
     "outputs": [
      {
       "metadata": {},
       "output_type": "pyout",
       "prompt_number": 157,
       "text": [
        "1"
       ]
      }
     ],
     "prompt_number": 157
    },
    {
     "cell_type": "markdown",
     "metadata": {},
     "source": [
      "Offset between the camera box and the mock mask:\n",
      "Center of box:"
     ]
    },
    {
     "cell_type": "code",
     "collapsed": false,
     "input": [
      "boxcenter = np.array([20.027559,21.794399])\n",
      "maskcenter = np.array([26.544226,24.911069])"
     ],
     "language": "python",
     "metadata": {},
     "outputs": [],
     "prompt_number": 160
    },
    {
     "cell_type": "code",
     "collapsed": false,
     "input": [
      "boxcenter - maskcenter"
     ],
     "language": "python",
     "metadata": {},
     "outputs": [
      {
       "metadata": {},
       "output_type": "pyout",
       "prompt_number": 161,
       "text": [
        "array([-6.516667, -3.11667 ])"
       ]
      }
     ],
     "prompt_number": 161
    },
    {
     "cell_type": "code",
     "collapsed": false,
     "input": [],
     "language": "python",
     "metadata": {},
     "outputs": []
    }
   ],
   "metadata": {}
  }
 ]
}