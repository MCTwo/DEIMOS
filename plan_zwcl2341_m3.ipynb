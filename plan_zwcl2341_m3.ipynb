{
 "metadata": {
  "name": "plan_zwcl2341_m3"
 },
 "nbformat": 3,
 "nbformat_minor": 0,
 "worksheets": [
  {
   "cells": [
    {
     "cell_type": "heading",
     "level": 2,
     "metadata": {},
     "source": [
      "In order to use the ds9 function in this notebook, you need pyds9 installed "
     ]
    },
    {
     "cell_type": "code",
     "collapsed": false,
     "input": [
      "%load_ext autosave \n",
      "%autosave 60"
     ],
     "language": "python",
     "metadata": {},
     "outputs": [
      {
       "output_type": "stream",
       "stream": "stdout",
       "text": [
        "Usage: %autosave [seconds]\n",
        "autosaving every 60s\n"
       ]
      },
      {
       "javascript": [
        "\n",
        "\n",
        "// clear previous interval, if there was one\n",
        "if (IPython.autosave_extension_interval) {\n",
        "    clearInterval(IPython.autosave_extension_interval);\n",
        "    IPython.autosave_extension_interval = null;\n",
        "}\n",
        "\n",
        "// set new interval\n",
        "if (60000) {\n",
        "    console.log(\"scheduling autosave every 60000 ms\");\n",
        "    IPython.notebook.save_notebook();\n",
        "    IPython.autosave_extension_interval = setInterval(function() {\n",
        "        console.log(\"autosave\");\n",
        "        IPython.notebook.save_notebook();\n",
        "    }, 60000);\n",
        "} else {\n",
        "    console.log(\"canceling autosave\");\n",
        "}\n"
       ],
       "output_type": "display_data",
       "text": [
        "<IPython.core.display.Javascript at 0x1116a61d0>"
       ]
      }
     ],
     "prompt_number": 129
    },
    {
     "cell_type": "code",
     "collapsed": false,
     "input": [
      "#===============================================================================\n",
      "#Purpose: This makes use of \"obsplan_functions.py\" to make the masks \n",
      "#Author: \n",
      "#Will. A. Dawson <will@dawsonresearch.com>\n",
      "#Karen Y. Ng <karen.yng@ucdavis.edu>\n",
      "#License: BSD\n",
      "#Date: 06/07/2013\n",
      "#===============================================================================\n",
      "# Import required libraries\n",
      "#-------------------------------------------------------------------------------\n",
      "from __future__ import division\n",
      "import sys\n",
      "import os\n",
      "import numpy as np,numpy\n",
      "import pandas as pd \n",
      "import matplotlib.pyplot as plt\n",
      "import ds9\n",
      "import numpy.ma as ma\n",
      "import pyfits \n",
      "#from IPython.core.display import Image  \n",
      "#import aplpy\n",
      "import obsplan_functions as fcn"
     ],
     "language": "python",
     "metadata": {},
     "outputs": [],
     "prompt_number": 130
    },
    {
     "cell_type": "heading",
     "level": 1,
     "metadata": {},
     "source": [
      "0.Initialize variables "
     ]
    },
    {
     "cell_type": "code",
     "collapsed": false,
     "input": [
      "# Initialize variables\n",
      "#-------------------------------------------------------------------------------\n",
      "path = '/Users/karenyng/Documents/Research/DEIMOS/'\n",
      "catalog = 'zwcl2341_sdsscat.csv'\n",
      "maskNumber = 1 #2 cannot support multiple mask as of now\n",
      "prefix = 'zwcl2341_rev0_m3'\n",
      "\n",
      "\n",
      "#output: part of the name of region file that mimicks location of the mask\n",
      "regfile = '_gal.reg'\n",
      "#output: part of the name of region file that mimicks location of guider cam\n",
      "regCam = '_cam.reg'\n",
      "\n",
      "#input: the range of for galaxy magnitude inclusion \n",
      "R_bounds = (0,23.5)\n",
      "\n",
      "#input: the amount of sky on either side of galaxy to include in slit (arcsec)\n",
      "sky = (1.0, 1.0) \n",
      "\n",
      "#input: the known redshift for cluster ZwCL 2341 is \n",
      "z_cluster = 0.27\n",
      "\n",
      "exclude_file = ('zwcl2341_m1_rev3_exclude.txt',\n",
      "                'zwcl2341_m0_rev3_exclude.txt')\n",
      "\n",
      "#input: the fits file containing the galaxy images \n",
      "#note the following is a rgb cube\n",
      "fitsfile = 'zwcl2341_bvr_sdss039612.fits'\n",
      "\n",
      "#output: what you want the fits file with number density histograms to be called \n",
      "no_density_fits = prefix + '_no_density'\n",
      "ds9_contour = prefix+'.con'\n",
      "\n",
      "#inputs: this reg file has the exact look of the detector but size is not quite right\n",
      "mask_model_reg = 'detector_mask.reg'\n",
      "#input: xray and radio contour produced earlier \n",
      "misc_contour = ('zwcl2341_Xray.con','zwcl2341_radio.con')\n",
      "misc_con_color = ('blue','cyan')\n",
      "\n",
      "\n",
      "#input: ------star catalog related variables -------\n",
      "star_prefix = 'stars_m3_'\n",
      "star_r_bounds = (15,19.5)\n"
     ],
     "language": "python",
     "metadata": {},
     "outputs": [],
     "prompt_number": 131
    },
    {
     "cell_type": "heading",
     "level": 2,
     "metadata": {},
     "source": [
      "0.1 Read in catalog then filter according to the specifications & exclude files"
     ]
    },
    {
     "cell_type": "code",
     "collapsed": false,
     "input": [
      "#main program\n",
      "#-------------------------------------------------------------------------------\n",
      "#By default \"pandas.read_csv\" reads in the files with ',' as delimiter\n",
      "#na_values tells pandas to put that string expression as np.na values\n",
      "#for example of how to read other table types see the end of the file\n",
      "cat = pd.read_csv(catalog,na_values='null')\n",
      "cat=cat.drop_duplicates(cols='objID')\n",
      "\n",
      "##To see the keys for the catalog by typing cat \n",
      "#cat "
     ],
     "language": "python",
     "metadata": {},
     "outputs": [],
     "prompt_number": 132
    },
    {
     "cell_type": "code",
     "collapsed": false,
     "input": [
      "#exclude stuff from exclusion files \n",
      "if exclude_file!=None:\n",
      "    for i in range(len(exclude_file)):\n",
      "        cat = fcn.exclude_objects(cat,exclude_file[i])\n",
      "\n",
      "#filter out other astronomical objects and leave only galaxies \n",
      "#type = 3 is for galaxies \n",
      "cat = fcn.filter_catalog_dataframe(cat,field='type',lowerbound=3,\n",
      "                                    upperbound=3)\n",
      "\n",
      "#filter out entries with spec_z \n",
      "cat = fcn.filter_catalog_dataframe(cat,field='z_spec',\n",
      "                             lowerbound=-sys.float_info.epsilon,\n",
      "                             upperbound=sys.float_info.epsilon)\n",
      "\n",
      "#filter out entires with faint unextincted R band magnitude\n",
      "cat = fcn.filter_catalog_dataframe(cat,field='dered_r',\n",
      "                             lowerbound=R_bounds[0],\n",
      "                             upperbound=R_bounds[1])\n",
      "\n",
      "#determine galaxies that are not likely to be cluster members \n",
      "cat = fcn.determine_weight(cat,cat['z_phot'],cat['z_phot_Err'],\n",
      "                                z_cluster,plot_diag=True)"
     ],
     "language": "python",
     "metadata": {},
     "outputs": [
      {
       "output_type": "stream",
       "stream": "stdout",
       "text": [
        "obsplan_functions.exclude_objects():\n",
        "Reading in exclude file: If you see error messages \n",
        "check if there are non-data rows in the middle of the file\n",
        "obsplan.exclude_objects():\n",
        "3273-127=3146\n",
        "--------------------------------------------------------\n",
        "obsplan_functions.exclude_objects():\n",
        "Reading in exclude file: If you see error messages \n",
        "check if there are non-data rows in the middle of the file\n",
        "obsplan.exclude_objects():"
       ]
      },
      {
       "output_type": "stream",
       "stream": "stdout",
       "text": [
        "\n",
        "3146-126=3020\n",
        "--------------------------------------------------------\n",
        "3020-1078=1942 entries remaining\n",
        "--------------------------------------------------------\n",
        "1942-52=1890 entries remaining\n",
        "--------------------------------------------------------\n",
        "1890-214=1676 entries remaining\n",
        "--------------------------------------------------------\n"
       ]
      },
      {
       "output_type": "display_data",
       "png": "[encoded data removed]"
      },
      {
       "output_type": "stream",
       "stream": "stdout",
       "text": [
        "A new field called weight has been added to catalog\n"
       ]
      }
     ],
     "prompt_number": 133
    },
    {
     "cell_type": "heading",
     "level": 1,
     "metadata": {},
     "source": [
      "DECIDE ON A WEIGHT CUT:"
     ]
    },
    {
     "cell_type": "code",
     "collapsed": false,
     "input": [
      "print '''this is to stop you and make you think about the weight cut"
     ],
     "language": "python",
     "metadata": {},
     "outputs": [
      {
       "ename": "SyntaxError",
       "evalue": "EOF while scanning triple-quoted string literal (<ipython-input-134-752fecc18e1f>, line 1)",
       "output_type": "pyerr",
       "traceback": [
        "\u001b[0;36m  File \u001b[0;32m\"<ipython-input-134-752fecc18e1f>\"\u001b[0;36m, line \u001b[0;32m1\u001b[0m\n\u001b[0;31m    print '''this is to stop you and make you think about the weight cut\u001b[0m\n\u001b[0m                                                                        ^\u001b[0m\n\u001b[0;31mSyntaxError\u001b[0m\u001b[0;31m:\u001b[0m EOF while scanning triple-quoted string literal\n"
       ]
      }
     ],
     "prompt_number": 134
    },
    {
     "cell_type": "code",
     "collapsed": false,
     "input": [
      "lower_wght = 150"
     ],
     "language": "python",
     "metadata": {},
     "outputs": [],
     "prompt_number": 138
    },
    {
     "cell_type": "code",
     "collapsed": false,
     "input": [
      "#filter out entires with low weight for making number density plots only\n",
      "wcat = fcn.filter_catalog_dataframe(cat,field='weight',\n",
      "                             lowerbound = lower_wght,\n",
      "                             upperbound = None)"
     ],
     "language": "python",
     "metadata": {},
     "outputs": [
      {
       "output_type": "stream",
       "stream": "stdout",
       "text": [
        "Started out with 1676\n",
        " filtered out 983 data entries\n",
        " with 693 remaining\n",
        "--------------------------------------------------------\n"
       ]
      }
     ],
     "prompt_number": 139
    },
    {
     "cell_type": "heading",
     "level": 2,
     "metadata": {},
     "source": [
      "0.2 Make contour of remaining galaxies and decide how to orient slitmask"
     ]
    },
    {
     "cell_type": "code",
     "collapsed": false,
     "input": [
      "junk1,junk2,junk3=fcn.no_density2fits(wcat, no_density_fits)"
     ],
     "language": "python",
     "metadata": {},
     "outputs": [
      {
       "output_type": "stream",
       "stream": "stderr",
       "text": [
        "WARNING:astropy:Overwriting existing file 'zwcl2341_rev0_m3_no_density.fits'.\n"
       ]
      },
      {
       "output_type": "stream",
       "stream": "stdout",
       "text": [
        "WARNING: Overwriting existing file 'zwcl2341_rev0_m3_no_density.fits'. [pyfits.hdu.hdulist]\n",
        "Fits file with name:  zwcl2341_rev0_m3_no_density.fits  has been written\n",
        "--------------------------------------------------------\n"
       ]
      }
     ],
     "prompt_number": 140
    },
    {
     "cell_type": "heading",
     "level": 1,
     "metadata": {},
     "source": [
      "1 Start examining galaxy contour with ds9 - please MANUALLY start ds9"
     ]
    },
    {
     "cell_type": "markdown",
     "metadata": {},
     "source": [
      "See all relevant documentations for available commands at:\n",
      "\n",
      "http://hea-www.harvard.edu/saord/ds9/ref/xpa.html"
     ]
    },
    {
     "cell_type": "code",
     "collapsed": false,
     "input": [
      "c_fit = os.path.realpath(no_density_fits+'.fits')\n",
      "d = ds9.ds9()\n",
      "d.set(\"frame delete all\")\n",
      "d.set(\"frame new\")\n",
      "thisfile = \"file \"+c_fit\n",
      "print thisfile\n",
      "d.set(thisfile)\n",
      "#personal preference to have the control panel on the left \n",
      "d.set(\"view layout vertical\")\n",
      "d.set(\"wcs align yes\")\n",
      "d.set(\"zoom to fit\")\n",
      "d.set(\"cmap sls\")\n",
      "#change your smoothing function as desired\n",
      "d.set(\"smooth function tophat\")\n",
      "d.set(\"smooth\")"
     ],
     "language": "python",
     "metadata": {},
     "outputs": [
      {
       "output_type": "stream",
       "stream": "stdout",
       "text": [
        "file /Users/karenyng/Documents/Research/deimos/zwcl2341_rev0_m3_no_density.fits\n"
       ]
      },
      {
       "output_type": "pyout",
       "prompt_number": 141,
       "text": [
        "1"
       ]
      }
     ],
     "prompt_number": 141
    },
    {
     "cell_type": "heading",
     "level": 2,
     "metadata": {},
     "source": [
      "1.0 Generate contour, adjust smoothness then save "
     ]
    },
    {
     "cell_type": "code",
     "collapsed": false,
     "input": [
      "d.set(\"cmap grey\")\n",
      "#d.set(\"contour generate\")\n",
      "d.set(\"contour smooth 2\")\n",
      "d.set(\"contour nlevels 35\")"
     ],
     "language": "python",
     "metadata": {},
     "outputs": [
      {
       "output_type": "pyout",
       "prompt_number": 142,
       "text": [
        "1"
       ]
      }
     ],
     "prompt_number": 142
    },
    {
     "cell_type": "code",
     "collapsed": false,
     "input": [
      "print 'Make sure you adjust the panel of smoothing '\n",
      "print 'parameters and click apply before executing the later lines'\n"
     ],
     "language": "python",
     "metadata": {},
     "outputs": []
    },
    {
     "cell_type": "heading",
     "level": 3,
     "metadata": {},
     "source": [
      "Click apply at the contour panel from ds9"
     ]
    },
    {
     "cell_type": "code",
     "collapsed": false,
     "input": [
      "print 'intentionally stopping notebook process so contour\\\n",
      "properly got generated first before saving"
     ],
     "language": "python",
     "metadata": {},
     "outputs": []
    },
    {
     "cell_type": "code",
     "collapsed": false,
     "input": [
      "#save contour\n",
      "command = \"contour save \"+path+ds9_contour+\" wcs fk5\"\n",
      "d.set(command)\n",
      "print path+ds9_contour+\" saved\""
     ],
     "language": "python",
     "metadata": {},
     "outputs": []
    },
    {
     "cell_type": "heading",
     "level": 3,
     "metadata": {},
     "source": [
      "1.1 Reloading the fits with the optical image before overlaying the mask"
     ]
    },
    {
     "cell_type": "heading",
     "level": 3,
     "metadata": {},
     "source": [
      "If your fits file is not a rgb cube, then just load your fits file with \n",
      "d.set(\"file your-fits-file\") "
     ]
    },
    {
     "cell_type": "code",
     "collapsed": false,
     "input": [
      "d.set(\"frame delete all\")\n",
      "fit = os.path.realpath('zwcl2341_bvr_sdss039612.fits')\n",
      "d.set(\"frame new rgb\")\n",
      "thisfile = \"rgbcube \"+fit\n",
      "d.set(thisfile)\n",
      "d.set(\"zoom to fit\") \n",
      "d.set(\"contour clear\")\n",
      "d.set(\"wcs align yes\")"
     ],
     "language": "python",
     "metadata": {},
     "outputs": [
      {
       "output_type": "pyout",
       "prompt_number": 143,
       "text": [
        "1"
       ]
      }
     ],
     "prompt_number": 143
    },
    {
     "cell_type": "heading",
     "level": 2,
     "metadata": {},
     "source": [
      "Import contour file and decide how the mask should be oriented "
     ]
    },
    {
     "cell_type": "code",
     "collapsed": false,
     "input": [
      "d.set(\"contour clear\")\n",
      "d.set(\"contour load \"+path+ds9_contour+\" wcs fk5 green 2 no\")"
     ],
     "language": "python",
     "metadata": {},
     "outputs": []
    },
    {
     "cell_type": "heading",
     "level": 3,
     "metadata": {},
     "source": [
      "1.2 For more informed decision of where to place the mask: "
     ]
    },
    {
     "cell_type": "markdown",
     "metadata": {},
     "source": [
      "make and load contour for x-ray / radio data and or look at a relevant paper"
     ]
    },
    {
     "cell_type": "code",
     "collapsed": false,
     "input": [
      "#d.set(\"contour clear\")\n",
      "for i in range(len(misc_contour)):\n",
      "    d.set(\"contour load \"+path+misc_contour[i]+' wcs fk5 '+\\\n",
      "            misc_con_color[i]+' 2 no')"
     ],
     "language": "python",
     "metadata": {},
     "outputs": [],
     "prompt_number": 144
    },
    {
     "cell_type": "heading",
     "level": 2,
     "metadata": {},
     "source": [
      "2. Loading the mask model, zoom in or out to find it "
     ]
    },
    {
     "cell_type": "markdown",
     "metadata": {},
     "source": [
      " to try to find the model mask ... the size is not right but its shape helps you determine where you should place your stars"
     ]
    },
    {
     "cell_type": "markdown",
     "metadata": {},
     "source": [
      "Wraggle with the box in ds9 :/"
     ]
    },
    {
     "cell_type": "code",
     "collapsed": false,
     "input": [
      "print ''' stop "
     ],
     "language": "python",
     "metadata": {},
     "outputs": []
    },
    {
     "cell_type": "code",
     "collapsed": false,
     "input": [
      "path_mask = os.path.realpath(mask_model_reg)\n",
      "stuff =\"regions load all \"+ path_mask\n",
      "d.set(stuff) "
     ],
     "language": "python",
     "metadata": {},
     "outputs": []
    },
    {
     "cell_type": "heading",
     "level": 3,
     "metadata": {},
     "source": [
      "#specify the location of your cluster approximately in Sexagasimal format"
     ]
    },
    {
     "cell_type": "code",
     "collapsed": false,
     "input": [
      "ra = \"23:43:37,\"\n",
      "dec = \"+0:17:24,\""
     ],
     "language": "python",
     "metadata": {},
     "outputs": []
    },
    {
     "cell_type": "heading",
     "level": 3,
     "metadata": {},
     "source": [
      "Copy the output of the following line and execute it to get the box imitating the mask drawn "
     ]
    },
    {
     "cell_type": "code",
     "collapsed": false,
     "input": [
      "x_size = \"16.2',\"\n",
      "y_size = \"5',\"\n",
      "angle = \"0\" \n",
      "boxcommand = \" fk5; box(\"+ra+dec+x_size+y_size+angle+\\\n",
      "                \") # color=cyan width=3\"\n",
      "d.set(\"regions\",boxcommand)\n",
      " "
     ],
     "language": "python",
     "metadata": {},
     "outputs": []
    },
    {
     "cell_type": "heading",
     "level": 3,
     "metadata": {},
     "source": [
      "2.1 Resize the model mask to match the loaded rectangle"
     ]
    },
    {
     "cell_type": "markdown",
     "metadata": {},
     "source": [
      " The model mask and the loaded rectangle should both have size 16.2'x5'. \n",
      "\n",
      "The model mask is just for you to visualize how your mask will look like, also"
     ]
    },
    {
     "cell_type": "markdown",
     "metadata": {},
     "source": [
      "* rotation angle is positive when rotated CCW from the +x axis towards +y axis"
     ]
    },
    {
     "cell_type": "heading",
     "level": 3,
     "metadata": {},
     "source": [
      "After orienting the box that mimicks the mask,  "
     ]
    },
    {
     "cell_type": "markdown",
     "metadata": {},
     "source": [
      "* delete the model mask\n",
      "* execute the following line to save the mask as prefix.reg then save"
     ]
    },
    {
     "cell_type": "code",
     "collapsed": false,
     "input": [
      "print ''' Adjust the mask "
     ],
     "language": "python",
     "metadata": {},
     "outputs": [
      {
       "ename": "SyntaxError",
       "evalue": "EOF while scanning triple-quoted string literal (<ipython-input-135-954bf34cb22d>, line 1)",
       "output_type": "pyerr",
       "traceback": [
        "\u001b[0;36m  File \u001b[0;32m\"<ipython-input-135-954bf34cb22d>\"\u001b[0;36m, line \u001b[0;32m1\u001b[0m\n\u001b[0;31m    print ''' Adjust the mask\u001b[0m\n\u001b[0m                              ^\u001b[0m\n\u001b[0;31mSyntaxError\u001b[0m\u001b[0;31m:\u001b[0m EOF while scanning triple-quoted string literal\n"
       ]
      }
     ],
     "prompt_number": 135
    },
    {
     "cell_type": "heading",
     "level": 3,
     "metadata": {},
     "source": [
      "Make sure that the region files are saved in the correct format then save"
     ]
    },
    {
     "cell_type": "code",
     "collapsed": false,
     "input": [
      "d.set(\"regions system wcs\") \n",
      "d.set(\"regions sky fk5\")\n",
      "d.set(\"regions skyformat degrees\") \n",
      "d.set(\"regions save \"+path+prefix+regfile)"
     ],
     "language": "python",
     "metadata": {},
     "outputs": [
      {
       "output_type": "stream",
       "stream": "stderr",
       "text": [
        "ERROR:astropy:ValueError: ds9 is no longer running (/var/folders/rv/t7r9tqm93_s9qw2758lk6lcr0000gn/T//DS9_ds9.13760)\n"
       ]
      },
      {
       "ename": "ValueError",
       "evalue": "ds9 is no longer running (/var/folders/rv/t7r9tqm93_s9qw2758lk6lcr0000gn/T//DS9_ds9.13760)",
       "output_type": "pyerr",
       "traceback": [
        "\u001b[0;31m---------------------------------------------------------------------------\u001b[0m\n\u001b[0;31mValueError\u001b[0m                                Traceback (most recent call last)",
        "\u001b[0;32m<ipython-input-136-2b0ed454def7>\u001b[0m in \u001b[0;36m<module>\u001b[0;34m()\u001b[0m\n\u001b[0;32m----> 1\u001b[0;31m \u001b[0md\u001b[0m\u001b[0;34m.\u001b[0m\u001b[0mset\u001b[0m\u001b[0;34m(\u001b[0m\u001b[0;34m\"regions system wcs\"\u001b[0m\u001b[0;34m)\u001b[0m\u001b[0;34m\u001b[0m\u001b[0m\n\u001b[0m\u001b[1;32m      2\u001b[0m \u001b[0md\u001b[0m\u001b[0;34m.\u001b[0m\u001b[0mset\u001b[0m\u001b[0;34m(\u001b[0m\u001b[0;34m\"regions sky fk5\"\u001b[0m\u001b[0;34m)\u001b[0m\u001b[0;34m\u001b[0m\u001b[0m\n\u001b[1;32m      3\u001b[0m \u001b[0md\u001b[0m\u001b[0;34m.\u001b[0m\u001b[0mset\u001b[0m\u001b[0;34m(\u001b[0m\u001b[0;34m\"regions skyformat degrees\"\u001b[0m\u001b[0;34m)\u001b[0m\u001b[0;34m\u001b[0m\u001b[0m\n\u001b[1;32m      4\u001b[0m \u001b[0md\u001b[0m\u001b[0;34m.\u001b[0m\u001b[0mset\u001b[0m\u001b[0;34m(\u001b[0m\u001b[0;34m\"regions save \"\u001b[0m\u001b[0;34m+\u001b[0m\u001b[0mpath\u001b[0m\u001b[0;34m+\u001b[0m\u001b[0mprefix\u001b[0m\u001b[0;34m+\u001b[0m\u001b[0mregfile\u001b[0m\u001b[0;34m)\u001b[0m\u001b[0;34m\u001b[0m\u001b[0m\n",
        "\u001b[0;32m/opt/local/Library/Frameworks/Python.framework/Versions/2.7/lib/python2.7/site-packages/ds9.pyc\u001b[0m in \u001b[0;36mset\u001b[0;34m(self, paramlist, buf, blen)\u001b[0m\n\u001b[1;32m    366\u001b[0m \u001b[0;34m\u001b[0m\u001b[0m\n\u001b[1;32m    367\u001b[0m         \"\"\"\n\u001b[0;32m--> 368\u001b[0;31m         \u001b[0mself\u001b[0m\u001b[0;34m.\u001b[0m\u001b[0m_selftest\u001b[0m\u001b[0;34m(\u001b[0m\u001b[0;34m)\u001b[0m\u001b[0;34m\u001b[0m\u001b[0m\n\u001b[0m\u001b[1;32m    369\u001b[0m         \u001b[0;32mif\u001b[0m \u001b[0m_have_numpy\u001b[0m \u001b[0;32mand\u001b[0m \u001b[0mtype\u001b[0m\u001b[0;34m(\u001b[0m\u001b[0mbuf\u001b[0m\u001b[0;34m)\u001b[0m \u001b[0;34m==\u001b[0m \u001b[0mnumpy\u001b[0m\u001b[0;34m.\u001b[0m\u001b[0mndarray\u001b[0m\u001b[0;34m:\u001b[0m\u001b[0;34m\u001b[0m\u001b[0m\n\u001b[1;32m    370\u001b[0m                 \u001b[0ms\u001b[0m \u001b[0;34m=\u001b[0m \u001b[0mbuf\u001b[0m\u001b[0;34m.\u001b[0m\u001b[0mtostring\u001b[0m\u001b[0;34m(\u001b[0m\u001b[0;34m)\u001b[0m\u001b[0;34m\u001b[0m\u001b[0m\n",
        "\u001b[0;32m/opt/local/Library/Frameworks/Python.framework/Versions/2.7/lib/python2.7/site-packages/ds9.pyc\u001b[0m in \u001b[0;36m_selftest\u001b[0;34m(self)\u001b[0m\n\u001b[1;32m    317\u001b[0m         \"\"\"\n\u001b[1;32m    318\u001b[0m         \u001b[0;32mif\u001b[0m \u001b[0mself\u001b[0m\u001b[0;34m.\u001b[0m\u001b[0mverify\u001b[0m \u001b[0;32mand\u001b[0m \u001b[0;32mnot\u001b[0m \u001b[0mxpa\u001b[0m\u001b[0;34m.\u001b[0m\u001b[0mxpaaccess\u001b[0m\u001b[0;34m(\u001b[0m\u001b[0mself\u001b[0m\u001b[0;34m.\u001b[0m\u001b[0mid\u001b[0m\u001b[0;34m,\u001b[0m \u001b[0mNone\u001b[0m\u001b[0;34m,\u001b[0m \u001b[0;36m1\u001b[0m\u001b[0;34m)\u001b[0m\u001b[0;34m:\u001b[0m\u001b[0;34m\u001b[0m\u001b[0m\n\u001b[0;32m--> 319\u001b[0;31m             \u001b[0;32mraise\u001b[0m \u001b[0mValueError\u001b[0m\u001b[0;34m,\u001b[0m \u001b[0;34m'ds9 is no longer running (%s)'\u001b[0m \u001b[0;34m%\u001b[0m \u001b[0mself\u001b[0m\u001b[0;34m.\u001b[0m\u001b[0mid\u001b[0m\u001b[0;34m\u001b[0m\u001b[0m\n\u001b[0m\u001b[1;32m    320\u001b[0m \u001b[0;34m\u001b[0m\u001b[0m\n\u001b[1;32m    321\u001b[0m     \u001b[0;32mdef\u001b[0m \u001b[0mget\u001b[0m\u001b[0;34m(\u001b[0m\u001b[0mself\u001b[0m\u001b[0;34m,\u001b[0m \u001b[0mparamlist\u001b[0m\u001b[0;34m=\u001b[0m\u001b[0mNone\u001b[0m\u001b[0;34m)\u001b[0m\u001b[0;34m:\u001b[0m\u001b[0;34m\u001b[0m\u001b[0m\n",
        "\u001b[0;31mValueError\u001b[0m: ds9 is no longer running (/var/folders/rv/t7r9tqm93_s9qw2758lk6lcr0000gn/T//DS9_ds9.13760)"
       ]
      },
      {
       "output_type": "stream",
       "stream": "stdout",
       "text": [
        "ERROR: ValueError: ds9 is no longer running (/var/folders/rv/t7r9tqm93_s9qw2758lk6lcr0000gn/T//DS9_ds9.13760) [ds9]\n"
       ]
      }
     ],
     "prompt_number": 136
    },
    {
     "cell_type": "heading",
     "level": 3,
     "metadata": {},
     "source": [
      "Import the model mask again"
     ]
    },
    {
     "cell_type": "code",
     "collapsed": false,
     "input": [
      "d.set(\"region delete all\")\n",
      "path_mask = os.path.realpath(mask_model_reg)\n",
      "stuff =\"regions load all \"+ path_mask\n",
      "d.set(stuff) "
     ],
     "language": "python",
     "metadata": {},
     "outputs": []
    },
    {
     "cell_type": "heading",
     "level": 3,
     "metadata": {},
     "source": [
      "Make a box that mimicks the guider camera"
     ]
    },
    {
     "cell_type": "code",
     "collapsed": false,
     "input": [
      "x_size = \"3.4665',\"\n",
      "y_size = \"3.4104167',\"\n",
      "angle = \"0\" \n",
      "boxcommand = \" fk5; box(\"+ra+dec+x_size+y_size+angle+\\\n",
      "                \") # color=cyan width=3\"\n",
      "d.set(\"regions\",boxcommand)"
     ],
     "language": "python",
     "metadata": {},
     "outputs": []
    },
    {
     "cell_type": "code",
     "collapsed": false,
     "input": [
      "print ''' Adjust the guider camera box"
     ],
     "language": "python",
     "metadata": {},
     "outputs": []
    },
    {
     "cell_type": "heading",
     "level": 3,
     "metadata": {},
     "source": [
      "\n",
      "Adjust the box position of the box to match the guide camera region of the resized model mask:"
     ]
    },
    {
     "cell_type": "markdown",
     "metadata": {},
     "source": [
      "* delete the model mask again \n",
      "* use the following lines to save your guider camera rectangle"
     ]
    },
    {
     "cell_type": "code",
     "collapsed": false,
     "input": [
      "#Make sure that the region files are saved in the correct format\n",
      "d.set(\"regions system wcs\") \n",
      "d.set(\"regions sky fk5\")\n",
      "d.set(\"regions skyformat degrees\") \n",
      "d.set(\"regions save \"+path+prefix+regCam)"
     ],
     "language": "python",
     "metadata": {},
     "outputs": [
      {
       "output_type": "stream",
       "stream": "stderr",
       "text": [
        "ERROR:astropy:ValueError: ds9 is no longer running (/var/folders/rv/t7r9tqm93_s9qw2758lk6lcr0000gn/T//DS9_ds9.13760)\n"
       ]
      },
      {
       "ename": "ValueError",
       "evalue": "ds9 is no longer running (/var/folders/rv/t7r9tqm93_s9qw2758lk6lcr0000gn/T//DS9_ds9.13760)",
       "output_type": "pyerr",
       "traceback": [
        "\u001b[0;31m---------------------------------------------------------------------------\u001b[0m\n\u001b[0;31mValueError\u001b[0m                                Traceback (most recent call last)",
        "\u001b[0;32m<ipython-input-137-2e67c5cbbfca>\u001b[0m in \u001b[0;36m<module>\u001b[0;34m()\u001b[0m\n\u001b[1;32m      1\u001b[0m \u001b[0;31m#Make sure that the region files are saved in the correct format\u001b[0m\u001b[0;34m\u001b[0m\u001b[0;34m\u001b[0m\u001b[0m\n\u001b[0;32m----> 2\u001b[0;31m \u001b[0md\u001b[0m\u001b[0;34m.\u001b[0m\u001b[0mset\u001b[0m\u001b[0;34m(\u001b[0m\u001b[0;34m\"regions system wcs\"\u001b[0m\u001b[0;34m)\u001b[0m\u001b[0;34m\u001b[0m\u001b[0m\n\u001b[0m\u001b[1;32m      3\u001b[0m \u001b[0md\u001b[0m\u001b[0;34m.\u001b[0m\u001b[0mset\u001b[0m\u001b[0;34m(\u001b[0m\u001b[0;34m\"regions sky fk5\"\u001b[0m\u001b[0;34m)\u001b[0m\u001b[0;34m\u001b[0m\u001b[0m\n\u001b[1;32m      4\u001b[0m \u001b[0md\u001b[0m\u001b[0;34m.\u001b[0m\u001b[0mset\u001b[0m\u001b[0;34m(\u001b[0m\u001b[0;34m\"regions skyformat degrees\"\u001b[0m\u001b[0;34m)\u001b[0m\u001b[0;34m\u001b[0m\u001b[0m\n\u001b[1;32m      5\u001b[0m \u001b[0md\u001b[0m\u001b[0;34m.\u001b[0m\u001b[0mset\u001b[0m\u001b[0;34m(\u001b[0m\u001b[0;34m\"regions save \"\u001b[0m\u001b[0;34m+\u001b[0m\u001b[0mpath\u001b[0m\u001b[0;34m+\u001b[0m\u001b[0mprefix\u001b[0m\u001b[0;34m+\u001b[0m\u001b[0mregCam\u001b[0m\u001b[0;34m)\u001b[0m\u001b[0;34m\u001b[0m\u001b[0m\n",
        "\u001b[0;32m/opt/local/Library/Frameworks/Python.framework/Versions/2.7/lib/python2.7/site-packages/ds9.pyc\u001b[0m in \u001b[0;36mset\u001b[0;34m(self, paramlist, buf, blen)\u001b[0m\n\u001b[1;32m    366\u001b[0m \u001b[0;34m\u001b[0m\u001b[0m\n\u001b[1;32m    367\u001b[0m         \"\"\"\n\u001b[0;32m--> 368\u001b[0;31m         \u001b[0mself\u001b[0m\u001b[0;34m.\u001b[0m\u001b[0m_selftest\u001b[0m\u001b[0;34m(\u001b[0m\u001b[0;34m)\u001b[0m\u001b[0;34m\u001b[0m\u001b[0m\n\u001b[0m\u001b[1;32m    369\u001b[0m         \u001b[0;32mif\u001b[0m \u001b[0m_have_numpy\u001b[0m \u001b[0;32mand\u001b[0m \u001b[0mtype\u001b[0m\u001b[0;34m(\u001b[0m\u001b[0mbuf\u001b[0m\u001b[0;34m)\u001b[0m \u001b[0;34m==\u001b[0m \u001b[0mnumpy\u001b[0m\u001b[0;34m.\u001b[0m\u001b[0mndarray\u001b[0m\u001b[0;34m:\u001b[0m\u001b[0;34m\u001b[0m\u001b[0m\n\u001b[1;32m    370\u001b[0m                 \u001b[0ms\u001b[0m \u001b[0;34m=\u001b[0m \u001b[0mbuf\u001b[0m\u001b[0;34m.\u001b[0m\u001b[0mtostring\u001b[0m\u001b[0;34m(\u001b[0m\u001b[0;34m)\u001b[0m\u001b[0;34m\u001b[0m\u001b[0m\n",
        "\u001b[0;32m/opt/local/Library/Frameworks/Python.framework/Versions/2.7/lib/python2.7/site-packages/ds9.pyc\u001b[0m in \u001b[0;36m_selftest\u001b[0;34m(self)\u001b[0m\n\u001b[1;32m    317\u001b[0m         \"\"\"\n\u001b[1;32m    318\u001b[0m         \u001b[0;32mif\u001b[0m \u001b[0mself\u001b[0m\u001b[0;34m.\u001b[0m\u001b[0mverify\u001b[0m \u001b[0;32mand\u001b[0m \u001b[0;32mnot\u001b[0m \u001b[0mxpa\u001b[0m\u001b[0;34m.\u001b[0m\u001b[0mxpaaccess\u001b[0m\u001b[0;34m(\u001b[0m\u001b[0mself\u001b[0m\u001b[0;34m.\u001b[0m\u001b[0mid\u001b[0m\u001b[0;34m,\u001b[0m \u001b[0mNone\u001b[0m\u001b[0;34m,\u001b[0m \u001b[0;36m1\u001b[0m\u001b[0;34m)\u001b[0m\u001b[0;34m:\u001b[0m\u001b[0;34m\u001b[0m\u001b[0m\n\u001b[0;32m--> 319\u001b[0;31m             \u001b[0;32mraise\u001b[0m \u001b[0mValueError\u001b[0m\u001b[0;34m,\u001b[0m \u001b[0;34m'ds9 is no longer running (%s)'\u001b[0m \u001b[0;34m%\u001b[0m \u001b[0mself\u001b[0m\u001b[0;34m.\u001b[0m\u001b[0mid\u001b[0m\u001b[0;34m\u001b[0m\u001b[0m\n\u001b[0m\u001b[1;32m    320\u001b[0m \u001b[0;34m\u001b[0m\u001b[0m\n\u001b[1;32m    321\u001b[0m     \u001b[0;32mdef\u001b[0m \u001b[0mget\u001b[0m\u001b[0;34m(\u001b[0m\u001b[0mself\u001b[0m\u001b[0;34m,\u001b[0m \u001b[0mparamlist\u001b[0m\u001b[0;34m=\u001b[0m\u001b[0mNone\u001b[0m\u001b[0;34m)\u001b[0m\u001b[0;34m:\u001b[0m\u001b[0;34m\u001b[0m\u001b[0m\n",
        "\u001b[0;31mValueError\u001b[0m: ds9 is no longer running (/var/folders/rv/t7r9tqm93_s9qw2758lk6lcr0000gn/T//DS9_ds9.13760)"
       ]
      },
      {
       "output_type": "stream",
       "stream": "stdout",
       "text": [
        "ERROR: ValueError: ds9 is no longer running (/var/folders/rv/t7r9tqm93_s9qw2758lk6lcr0000gn/T//DS9_ds9.13760) [ds9]\n"
       ]
      }
     ],
     "prompt_number": 137
    },
    {
     "cell_type": "heading",
     "level": 3,
     "metadata": {},
     "source": [
      "2.3 filter catalog so only galaxies within box area is selected"
     ]
    },
    {
     "cell_type": "code",
     "collapsed": false,
     "input": [
      "cat,box  = fcn.return_objects_in_mask_region(cat,prefix+regfile)\n",
      "\n",
      "cat = fcn.determine_sample_no(cat,2,'dered_r', first_sample=True,\n",
      "                              lower_criteria=22.5,\n",
      "                              upper_criteria=23.0)\n",
      "cat = fcn.determine_sample_no(cat,1,'dered_r',lower_criteria=None,\n",
      "                              upper_criteria=22.5)"
     ],
     "language": "python",
     "metadata": {},
     "outputs": []
    },
    {
     "cell_type": "heading",
     "level": 3,
     "metadata": {},
     "source": [
      "2.3b Determine the PA (latest version of the PA function should be incorporated)"
     ]
    },
    {
     "cell_type": "code",
     "collapsed": false,
     "input": [
      "PA_field = 'PA'\n",
      "cat['PA']=pd.Series(np.zeros(cat.shape[0]),cat.index)\n",
      "cat = fcn.pick_PA(cat, PA_field, box)"
     ],
     "language": "python",
     "metadata": {},
     "outputs": []
    },
    {
     "cell_type": "heading",
     "level": 3,
     "metadata": {},
     "source": [
      "2.4 Now reload the regions that mimicks the mask and the camera "
     ]
    },
    {
     "cell_type": "code",
     "collapsed": false,
     "input": [
      "d.set(\"regions delete all\")\n",
      "path_mask = os.path.realpath(regfile)\n",
      "stuff =\"regions load all \"+ path+prefix+regfile\n",
      "d.set(stuff) \n",
      "path_mask = os.path.realpath(regCam)\n",
      "stuff =\"regions load all \"+ path+prefix+regCam\n",
      "d.set(stuff) \n",
      "d.set(\"contour clear\")"
     ],
     "language": "python",
     "metadata": {},
     "outputs": []
    },
    {
     "cell_type": "heading",
     "level": 3,
     "metadata": {},
     "source": [
      "2.5 Great! Now we are ready to visualize where the slits are:"
     ]
    },
    {
     "cell_type": "code",
     "collapsed": false,
     "input": [
      "reload(fcn)\n",
      "fcn.show_slits_in_ds9(cat, d, sky)\n",
      "#this line will suppress showing the weight at each slit \n",
      "d.set(\"regions showtext no\")"
     ],
     "language": "python",
     "metadata": {},
     "outputs": []
    },
    {
     "cell_type": "heading",
     "level": 2,
     "metadata": {},
     "source": [
      "Make a star catalog near the selected region file and print out star candidates on a ds9 window"
     ]
    },
    {
     "cell_type": "markdown",
     "metadata": {},
     "source": [
      "These lines are copied from select_stars.py\n",
      "Importing catalog again, this time filtering galaxies out and leaving stars behind"
     ]
    },
    {
     "cell_type": "markdown",
     "metadata": {},
     "source": [
      "Determine guide stars "
     ]
    },
    {
     "cell_type": "code",
     "collapsed": false,
     "input": [
      "reload(fcn)\n",
      "gstar_cat = pd.read_csv(catalog,na_values='null')\n",
      "gstar_cat = fcn.filter_catalog_dataframe(gstar_cat,'type',6,6)\n",
      "gstar_cat = fcn.filter_catalog_dataframe(gstar_cat,'dered_r',\n",
      "                                    star_r_bounds[0],star_r_bounds[1])\n",
      "gstar_cat, gbox = fcn.return_objects_in_mask_region(gstar_cat, prefix+regCam) \n",
      "\n",
      "gstar_cat.index[0]"
     ],
     "language": "python",
     "metadata": {},
     "outputs": []
    },
    {
     "cell_type": "code",
     "collapsed": false,
     "input": [
      "d.set(\"regions delete all\")\n",
      "fcn.show_circ_in_ds9(gstar_cat, d, color='red')"
     ],
     "language": "python",
     "metadata": {},
     "outputs": []
    },
    {
     "cell_type": "code",
     "collapsed": false,
     "input": [
      "d.set(\"regions system wcs\") \n",
      "d.set(\"regions sky fk5\")\n",
      "d.set(\"regions skyformat degrees\") \n",
      "d.set(\"regions save \"+path+prefix+\"_gstars.reg\")"
     ],
     "language": "python",
     "metadata": {},
     "outputs": []
    },
    {
     "cell_type": "markdown",
     "metadata": {},
     "source": [
      "Now read the guide stars back in for printing"
     ]
    },
    {
     "cell_type": "code",
     "collapsed": false,
     "input": [
      "regex_circ_string = r\"[a-zA-Z0-9.-][text=]\\{(\\d+)\\-\\-([0-9]*\\.?[0-9]+)\\}\"\n",
      "                    \n",
      "gstars = np.fromregex(prefix+'_gstars.reg',regex_circ_string,\n",
      "    [('objID',np.int64),('dered_r',np.float)])"
     ],
     "language": "python",
     "metadata": {},
     "outputs": []
    },
    {
     "cell_type": "heading",
     "level": 3,
     "metadata": {},
     "source": [
      "Match the read in objects with those in the catalog for gstars:"
     ]
    },
    {
     "cell_type": "code",
     "collapsed": false,
     "input": [
      "for i in range(gstars.shape[0]):\n",
      "    if i==0:\n",
      "        mask = gstar_cat['objID'] == gstars['objID'][i]\n",
      "    else:\n",
      "        tmask = gstar_cat['objID'] == gstars['objID'][i]\n",
      "        mask += tmask\n",
      "gstars_final = gstar_cat[mask]"
     ],
     "language": "python",
     "metadata": {},
     "outputs": []
    },
    {
     "cell_type": "heading",
     "level": 3,
     "metadata": {},
     "source": [
      "Now do the same for alignment stars"
     ]
    },
    {
     "cell_type": "code",
     "collapsed": false,
     "input": [
      "reload(fcn)\n",
      "astar_cat = pd.read_csv(catalog,na_values='null')\n",
      "astar_cat = fcn.filter_catalog_dataframe(astar_cat,'type',6,6)\n",
      "astar_cat = fcn.filter_catalog_dataframe(astar_cat,'dered_r',\n",
      "                                    star_r_bounds[0],star_r_bounds[1])\n",
      "astar_cat,abox = fcn.return_objects_in_mask_region(astar_cat, \n",
      "                                        prefix+regfile) "
     ],
     "language": "python",
     "metadata": {},
     "outputs": []
    },
    {
     "cell_type": "markdown",
     "metadata": {},
     "source": [
      "Exclude the guide stars in the catalog of alignment stars"
     ]
    },
    {
     "cell_type": "code",
     "collapsed": false,
     "input": [
      "#exclude the guide stars in this catalog reload(fcn)\n",
      "dataNo = astar_cat.shape[0]\n",
      "for i in range(gstar_cat['objID'].shape[0]):\n",
      "    ex_objID=gstar_cat['objID'][gstar_cat['objID'].index[i]]\n",
      "    mask = astar_cat['objID'] == ex_objID\n",
      "    astar_cat = astar_cat[~mask]\n",
      "print '{0} entries have been filtered out'.format(dataNo -\\\n",
      "                                                 astar_cat.shape[0])"
     ],
     "language": "python",
     "metadata": {},
     "outputs": []
    },
    {
     "cell_type": "code",
     "collapsed": false,
     "input": [
      "d.set(\"regions delete all\")\n",
      "fcn.show_slits_in_ds9(cat, d, sky)\n",
      "#this line will suppress showing the weight at each slit \n",
      "d.set(\"regions showtext no\")\n",
      "fcn.show_circ_in_ds9(astar_cat, d, color='yellow')"
     ],
     "language": "python",
     "metadata": {},
     "outputs": []
    },
    {
     "cell_type": "markdown",
     "metadata": {},
     "source": [
      "Now pick your stars, remember to pick the ones that are far away from the galaxies"
     ]
    },
    {
     "cell_type": "heading",
     "level": 3,
     "metadata": {},
     "source": [
      "DELETE all other regions and only leaving the alignment star circles before saving the stars:\n"
     ]
    },
    {
     "cell_type": "code",
     "collapsed": false,
     "input": [
      "d.set(\"regions system wcs\") \n",
      "d.set(\"regions sky fk5\")\n",
      "d.set(\"regions skyformat degrees\") \n",
      "d.set(\"regions save \"+path+prefix+\"_astars.reg\")"
     ],
     "language": "python",
     "metadata": {},
     "outputs": []
    },
    {
     "cell_type": "markdown",
     "metadata": {},
     "source": [
      "Read the stars back in , and print them in appropriate format "
     ]
    },
    {
     "cell_type": "code",
     "collapsed": false,
     "input": [
      "#teststr=StringIO('circle(355.88537,0.22009,10\")'+\\\n",
      "#             '#' +'color=yellow text={1237666408440594581--18.76}')\n",
      "regex_circ_string = r\"[a-zA-Z0-9.-][text=]\\{(\\d+)\\-\\-([0-9]*\\.?[0-9]+)\\}\"\n",
      "                    \n",
      "astars = np.fromregex(prefix+'_astars.reg',regex_circ_string,\n",
      "    [('objID',np.int64),('dered_r',np.float)])"
     ],
     "language": "python",
     "metadata": {},
     "outputs": []
    },
    {
     "cell_type": "heading",
     "level": 3,
     "metadata": {},
     "source": [
      "Now match the selected stars from the catalog "
     ]
    },
    {
     "cell_type": "code",
     "collapsed": false,
     "input": [
      "for i in range(astars.shape[0]):\n",
      "    if i==0:\n",
      "        mask = astar_cat['objID'] == astars['objID'][i]\n",
      "    else:\n",
      "        tmask = astar_cat['objID'] == astars['objID'][i]\n",
      "        mask += tmask\n",
      "astars_final = astar_cat[mask]"
     ],
     "language": "python",
     "metadata": {},
     "outputs": []
    },
    {
     "cell_type": "heading",
     "level": 3,
     "metadata": {},
     "source": [
      "ObjID can only be 16 digits long at most, prints out length of objID"
     ]
    },
    {
     "cell_type": "code",
     "collapsed": false,
     "input": [
      "print 'length of objID is '+\\\n",
      "'{0:.0f}'.format(np.log10(cat['objID'][cat['objID'].index[0]])+1)"
     ],
     "language": "python",
     "metadata": {},
     "outputs": []
    },
    {
     "cell_type": "heading",
     "level": 3,
     "metadata": {},
     "source": [
      "Convert the the coordinates into sexagesimal format...."
     ]
    },
    {
     "cell_type": "code",
     "collapsed": false,
     "input": [
      "cat = fcn.convert_to_sexadec_coord(cat)\n",
      "astars_final = fcn.convert_to_sexadec_coord(astars_final)\n",
      "gstars_final = fcn.convert_to_sexadec_coord(gstars_final)"
     ],
     "language": "python",
     "metadata": {},
     "outputs": []
    },
    {
     "cell_type": "heading",
     "level": 1,
     "metadata": {},
     "source": [
      "Calculate the naive sum of all the weight of this design"
     ]
    },
    {
     "cell_type": "markdown",
     "metadata": {},
     "source": [
      "sum of all weights of my proposed design is 73748.75585934917"
     ]
    },
    {
     "cell_type": "code",
     "collapsed": false,
     "input": [
      "np.sum(cat['weight'])"
     ],
     "language": "python",
     "metadata": {},
     "outputs": []
    },
    {
     "cell_type": "heading",
     "level": 1,
     "metadata": {},
     "source": [
      "Write out all the slits into dsim input file format!"
     ]
    },
    {
     "cell_type": "code",
     "collapsed": false,
     "input": [
      "dsim_input = prefix+'_maskcat.txt'\n",
      "F = open(dsim_input,'w') \n",
      "fcn.write_dsim_header(F,prefix,box)\n",
      "fcn.write_guide_stars_to_dsim(F, gstars_final)\n",
      "fcn.write_align_stars_to_dsim(F, astars_final)\n",
      "fcn.write_galaxies_to_dsim(F, cat, sky)\n",
      "F.close()"
     ],
     "language": "python",
     "metadata": {},
     "outputs": []
    },
    {
     "cell_type": "heading",
     "level": 2,
     "metadata": {},
     "source": [
      "Open up the galaxy catalog to check visually if everything's alright"
     ]
    },
    {
     "cell_type": "code",
     "collapsed": false,
     "input": [
      "print prefix+'_maskcat.txt'"
     ],
     "language": "python",
     "metadata": {},
     "outputs": []
    },
    {
     "cell_type": "code",
     "collapsed": false,
     "input": [
      "!gvim zwcl2341_rev0_m3_maskcat.txt"
     ],
     "language": "python",
     "metadata": {},
     "outputs": []
    },
    {
     "cell_type": "heading",
     "level": 2,
     "metadata": {},
     "source": [
      "Orient DS9 image so that it corresponds to DSIM image for comparison "
     ]
    },
    {
     "cell_type": "markdown",
     "metadata": {},
     "source": [
      "Check for slits in the classically forbidden region "
     ]
    },
    {
     "cell_type": "code",
     "collapsed": false,
     "input": [],
     "language": "python",
     "metadata": {},
     "outputs": []
    }
   ],
   "metadata": {}
  }
 ]
}